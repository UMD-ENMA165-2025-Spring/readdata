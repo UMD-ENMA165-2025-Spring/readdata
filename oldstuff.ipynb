{
 "cells": [
  {
   "cell_type": "code",
   "execution_count": null,
   "id": "085e913d-36a0-4bb0-a763-9870f1c4dd99",
   "metadata": {},
   "outputs": [],
   "source": []
  },
  {
   "cell_type": "markdown",
   "id": "f29cd40b-c681-4a2b-95df-8bc7a06021ff",
   "metadata": {},
   "source": [
    "## Old Stuff"
   ]
  },
  {
   "cell_type": "code",
   "execution_count": 65,
   "id": "d220204d-f24a-4c83-a62a-c25a40e0268a",
   "metadata": {},
   "outputs": [],
   "source": [
    "f = open(\"data/gapminder_gdp_oceania.csv\",\"r\")"
   ]
  },
  {
   "cell_type": "code",
   "execution_count": 66,
   "id": "763df7cd-b9f3-42e4-bb56-5301bcc08512",
   "metadata": {
    "scrolled": true
   },
   "outputs": [
    {
     "data": {
      "text/plain": [
       "'country,gdpPercap_1952,gdpPercap_1957,gdpPercap_1962,gdpPercap_1967,gdpPercap_1972,gdpPercap_1977,gdpPercap_1982,gdpPercap_1987,gdpPercap_1992,gdpPercap_1997,gdpPercap_2002,gdpPercap_2007\\nAustralia,10039.59564,10949.64959,12217.22686,14526.12465,16788.62948,18334.19751,19477.00928,21888.88903,23424.76683,26997.93657,30687.75473,34435.36744\\nNew Zealand,10556.57566,12247.39532,13175.678,14463.91893,16046.03728,16233.7177,17632.4104,19007.19129,18363.32494,21050.41377,23189.80135,25185.00911\\n'"
      ]
     },
     "execution_count": 66,
     "metadata": {},
     "output_type": "execute_result"
    }
   ],
   "source": [
    "f.read()"
   ]
  },
  {
   "cell_type": "code",
   "execution_count": 67,
   "id": "1e3599fb-a8aa-49d0-be04-1afe915c7517",
   "metadata": {},
   "outputs": [],
   "source": [
    "s = f.read()"
   ]
  },
  {
   "cell_type": "code",
   "execution_count": 68,
   "id": "af2442b4-8d1c-42ce-b61c-3c5e51075b34",
   "metadata": {},
   "outputs": [
    {
     "name": "stdout",
     "output_type": "stream",
     "text": [
      "\n"
     ]
    }
   ],
   "source": [
    "print(s)"
   ]
  },
  {
   "cell_type": "code",
   "execution_count": 69,
   "id": "731cd01f-82dc-4d50-9184-c55d0f458932",
   "metadata": {},
   "outputs": [
    {
     "data": {
      "text/plain": [
       "str"
      ]
     },
     "execution_count": 69,
     "metadata": {},
     "output_type": "execute_result"
    }
   ],
   "source": [
    "type(s)"
   ]
  },
  {
   "cell_type": "code",
   "execution_count": 70,
   "id": "310f4b45-08d3-4ea5-a976-6770b8da6f37",
   "metadata": {},
   "outputs": [
    {
     "name": "stdout",
     "output_type": "stream",
     "text": [
      "\n"
     ]
    }
   ],
   "source": [
    "print(s)"
   ]
  },
  {
   "cell_type": "code",
   "execution_count": 71,
   "id": "06f2d933-629a-4dc0-b19a-db0a31e79286",
   "metadata": {},
   "outputs": [
    {
     "name": "stdout",
     "output_type": "stream",
     "text": [
      "\n"
     ]
    }
   ],
   "source": [
    "print(s)"
   ]
  },
  {
   "cell_type": "code",
   "execution_count": 72,
   "id": "22d42e9b-0f37-4b2a-8db3-0d2314a4e550",
   "metadata": {},
   "outputs": [],
   "source": [
    "f.close()"
   ]
  },
  {
   "cell_type": "code",
   "execution_count": 73,
   "id": "e3bc3c54-24d0-4b59-a1bf-99caec9a1ac5",
   "metadata": {},
   "outputs": [],
   "source": [
    "#f.read()"
   ]
  },
  {
   "cell_type": "code",
   "execution_count": 74,
   "id": "22986736-3947-439c-bd92-5c5b4ff85102",
   "metadata": {},
   "outputs": [],
   "source": [
    "f = open(\"data/gapminder_gdp_oceania.csv\",\"r\")"
   ]
  },
  {
   "cell_type": "code",
   "execution_count": 75,
   "id": "a6055234-2e5b-4102-89d5-30ab21fde80e",
   "metadata": {},
   "outputs": [],
   "source": [
    "s = f.read()"
   ]
  },
  {
   "cell_type": "code",
   "execution_count": 76,
   "id": "1a3083e7-7aa6-48b0-ac16-51bedb7197e6",
   "metadata": {
    "scrolled": true
   },
   "outputs": [
    {
     "name": "stdout",
     "output_type": "stream",
     "text": [
      "country,gdpPercap_1952,gdpPercap_1957,gdpPercap_1962,gdpPercap_1967,gdpPercap_1972,gdpPercap_1977,gdpPercap_1982,gdpPercap_1987,gdpPercap_1992,gdpPercap_1997,gdpPercap_2002,gdpPercap_2007\n",
      "Australia,10039.59564,10949.64959,12217.22686,14526.12465,16788.62948,18334.19751,19477.00928,21888.88903,23424.76683,26997.93657,30687.75473,34435.36744\n",
      "New Zealand,10556.57566,12247.39532,13175.678,14463.91893,16046.03728,16233.7177,17632.4104,19007.19129,18363.32494,21050.41377,23189.80135,25185.00911\n",
      "\n"
     ]
    }
   ],
   "source": [
    "print(s)"
   ]
  },
  {
   "cell_type": "code",
   "execution_count": 77,
   "id": "525ea724-9bd8-4693-ad8c-38589b0dcdf3",
   "metadata": {},
   "outputs": [],
   "source": [
    "#f.seek(0, SEEK_SET)"
   ]
  },
  {
   "cell_type": "code",
   "execution_count": 78,
   "id": "e6e6fb9d-e1be-49ab-9c55-71d88e3a8cbe",
   "metadata": {},
   "outputs": [
    {
     "data": {
      "text/plain": [
       "0"
      ]
     },
     "execution_count": 78,
     "metadata": {},
     "output_type": "execute_result"
    }
   ],
   "source": [
    "f.seek(0)"
   ]
  },
  {
   "cell_type": "code",
   "execution_count": 79,
   "id": "9b668835-5fce-4063-b135-ecc76bf86e47",
   "metadata": {},
   "outputs": [
    {
     "data": {
      "text/plain": [
       "'country,gdpPercap_1952,gdpPercap_1957,gdpPercap_1962,gdpPercap_1967,gdpPercap_1972,gdpPercap_1977,gdpPercap_1982,gdpPercap_1987,gdpPercap_1992,gdpPercap_1997,gdpPercap_2002,gdpPercap_2007\\nAustralia,10039.59564,10949.64959,12217.22686,14526.12465,16788.62948,18334.19751,19477.00928,21888.88903,23424.76683,26997.93657,30687.75473,34435.36744\\nNew Zealand,10556.57566,12247.39532,13175.678,14463.91893,16046.03728,16233.7177,17632.4104,19007.19129,18363.32494,21050.41377,23189.80135,25185.00911\\n'"
      ]
     },
     "execution_count": 79,
     "metadata": {},
     "output_type": "execute_result"
    }
   ],
   "source": [
    "f.read()"
   ]
  },
  {
   "cell_type": "code",
   "execution_count": 80,
   "id": "6b7e8381-61b1-4edf-b416-5ed3ba2577e9",
   "metadata": {},
   "outputs": [
    {
     "data": {
      "text/plain": [
       "<function TextIOWrapper.tell()>"
      ]
     },
     "execution_count": 80,
     "metadata": {},
     "output_type": "execute_result"
    }
   ],
   "source": [
    "f.tell"
   ]
  },
  {
   "cell_type": "code",
   "execution_count": 81,
   "id": "eb6334ec-c6f7-4b84-ad41-030010f265f0",
   "metadata": {},
   "outputs": [
    {
     "data": {
      "text/plain": [
       "494"
      ]
     },
     "execution_count": 81,
     "metadata": {},
     "output_type": "execute_result"
    }
   ],
   "source": [
    "f.tell()"
   ]
  },
  {
   "cell_type": "code",
   "execution_count": 82,
   "id": "50359984-aa5b-4e5c-aa48-20537a752050",
   "metadata": {},
   "outputs": [],
   "source": [
    "f.close()"
   ]
  },
  {
   "cell_type": "code",
   "execution_count": 83,
   "id": "c6ff58c2-735a-45b4-8929-387403a533d2",
   "metadata": {},
   "outputs": [
    {
     "data": {
      "text/plain": [
       "['country',\n",
       " 'gdpPercap_1952',\n",
       " 'gdpPercap_1957',\n",
       " 'gdpPercap_1962',\n",
       " 'gdpPercap_1967',\n",
       " 'gdpPercap_1972',\n",
       " 'gdpPercap_1977',\n",
       " 'gdpPercap_1982',\n",
       " 'gdpPercap_1987',\n",
       " 'gdpPercap_1992',\n",
       " 'gdpPercap_1997',\n",
       " 'gdpPercap_2002',\n",
       " 'gdpPercap_2007\\nAustralia',\n",
       " '10039.59564',\n",
       " '10949.64959',\n",
       " '12217.22686',\n",
       " '14526.12465',\n",
       " '16788.62948',\n",
       " '18334.19751',\n",
       " '19477.00928',\n",
       " '21888.88903',\n",
       " '23424.76683',\n",
       " '26997.93657',\n",
       " '30687.75473',\n",
       " '34435.36744\\nNew Zealand',\n",
       " '10556.57566',\n",
       " '12247.39532',\n",
       " '13175.678',\n",
       " '14463.91893',\n",
       " '16046.03728',\n",
       " '16233.7177',\n",
       " '17632.4104',\n",
       " '19007.19129',\n",
       " '18363.32494',\n",
       " '21050.41377',\n",
       " '23189.80135',\n",
       " '25185.00911\\n']"
      ]
     },
     "execution_count": 83,
     "metadata": {},
     "output_type": "execute_result"
    }
   ],
   "source": [
    "s.split(\",\")"
   ]
  },
  {
   "cell_type": "code",
   "execution_count": 84,
   "id": "1d4a5ad9-f45c-4767-94cf-abe74d341e1a",
   "metadata": {},
   "outputs": [
    {
     "data": {
      "text/plain": [
       "['country,gdpPercap_1952,gdpPercap_1957,gdpPercap_1962,gdpPercap_1967,gdpPercap_1972,gdpPercap_1977,gdpPercap_1982,gdpPercap_1987,gdpPercap_1992,gdpPercap_1997,gdpPercap_2002,gdpPercap_2007',\n",
       " 'Australia,10039.59564,10949.64959,12217.22686,14526.12465,16788.62948,18334.19751,19477.00928,21888.88903,23424.76683,26997.93657,30687.75473,34435.36744',\n",
       " 'New Zealand,10556.57566,12247.39532,13175.678,14463.91893,16046.03728,16233.7177,17632.4104,19007.19129,18363.32494,21050.41377,23189.80135,25185.00911',\n",
       " '']"
      ]
     },
     "execution_count": 84,
     "metadata": {},
     "output_type": "execute_result"
    }
   ],
   "source": [
    "s.split(\"\\n\")"
   ]
  },
  {
   "cell_type": "code",
   "execution_count": 85,
   "id": "fa85e9ce-29fe-44e3-b6e0-ab160a7471f9",
   "metadata": {},
   "outputs": [
    {
     "data": {
      "text/plain": [
       "['country,gdpPercap_1952,gdpPercap_1957,gdpPercap_1962,gdpPercap_1967,gdpPercap_1972,gdpPercap_1977,gdpPercap_1982,gdpPercap_1987,gdpPercap_1992,gdpPercap_1997,gdpPercap_2002,gdpPercap_2007',\n",
       " 'Australia,10039.59564,10949.64959,12217.22686,14526.12465,16788.62948,18334.19751,19477.00928,21888.88903,23424.76683,26997.93657,30687.75473,34435.36744',\n",
       " 'New',\n",
       " 'Zealand,10556.57566,12247.39532,13175.678,14463.91893,16046.03728,16233.7177,17632.4104,19007.19129,18363.32494,21050.41377,23189.80135,25185.00911']"
      ]
     },
     "execution_count": 85,
     "metadata": {},
     "output_type": "execute_result"
    }
   ],
   "source": [
    "s.split()"
   ]
  },
  {
   "cell_type": "code",
   "execution_count": 86,
   "id": "b2867b9a-9b11-4b5a-95e3-5f6f5c90f36f",
   "metadata": {},
   "outputs": [
    {
     "data": {
      "text/plain": [
       "'country,gdpPercap_1952,gdpPercap_1957,gdpPercap_1962,gdpPercap_1967,gdpPercap_1972,gdpPercap_1977,gdpPercap_1982,gdpPercap_1987,gdpPercap_1992,gdpPercap_1997,gdpPercap_2002,gdpPercap_2007\\nAustralia,10039.59564,10949.64959,12217.22686,14526.12465,16788.62948,18334.19751,19477.00928,21888.88903,23424.76683,26997.93657,30687.75473,34435.36744\\nNew Zealand,10556.57566,12247.39532,13175.678,14463.91893,16046.03728,16233.7177,17632.4104,19007.19129,18363.32494,21050.41377,23189.80135,25185.00911'"
      ]
     },
     "execution_count": 86,
     "metadata": {},
     "output_type": "execute_result"
    }
   ],
   "source": [
    "s.strip()"
   ]
  },
  {
   "cell_type": "code",
   "execution_count": 87,
   "id": "1f915bf2-76c3-4c34-81fe-4dcb874cb727",
   "metadata": {},
   "outputs": [],
   "source": [
    "a = s.strip()"
   ]
  },
  {
   "cell_type": "code",
   "execution_count": 88,
   "id": "b5a56581-24bd-4cac-9eac-896c99d95b80",
   "metadata": {},
   "outputs": [
    {
     "data": {
      "text/plain": [
       "['country,gdpPercap_1952,gdpPercap_1957,gdpPercap_1962,gdpPercap_1967,gdpPercap_1972,gdpPercap_1977,gdpPercap_1982,gdpPercap_1987,gdpPercap_1992,gdpPercap_1997,gdpPercap_2002,gdpPercap_2007',\n",
       " 'Australia,10039.59564,10949.64959,12217.22686,14526.12465,16788.62948,18334.19751,19477.00928,21888.88903,23424.76683,26997.93657,30687.75473,34435.36744',\n",
       " 'New',\n",
       " 'Zealand,10556.57566,12247.39532,13175.678,14463.91893,16046.03728,16233.7177,17632.4104,19007.19129,18363.32494,21050.41377,23189.80135,25185.00911']"
      ]
     },
     "execution_count": 88,
     "metadata": {},
     "output_type": "execute_result"
    }
   ],
   "source": [
    "a.split()"
   ]
  },
  {
   "cell_type": "code",
   "execution_count": 89,
   "id": "f09ece10-d450-4e15-a387-822fd20d30b1",
   "metadata": {},
   "outputs": [
    {
     "data": {
      "text/plain": [
       "['country,gdpPercap_1952,gdpPercap_1957,gdpPercap_1962,gdpPercap_1967,gdpPercap_1972,gdpPercap_1977,gdpPercap_1982,gdpPercap_1987,gdpPercap_1992,gdpPercap_1997,gdpPercap_2002,gdpPercap_2007',\n",
       " 'Australia,10039.59564,10949.64959,12217.22686,14526.12465,16788.62948,18334.19751,19477.00928,21888.88903,23424.76683,26997.93657,30687.75473,34435.36744',\n",
       " 'New Zealand,10556.57566,12247.39532,13175.678,14463.91893,16046.03728,16233.7177,17632.4104,19007.19129,18363.32494,21050.41377,23189.80135,25185.00911']"
      ]
     },
     "execution_count": 89,
     "metadata": {},
     "output_type": "execute_result"
    }
   ],
   "source": [
    "a.split(\"\\n\")"
   ]
  },
  {
   "cell_type": "code",
   "execution_count": 90,
   "id": "44540133-8888-4578-8a52-349286506ef4",
   "metadata": {},
   "outputs": [
    {
     "data": {
      "text/plain": [
       "['country,gdpPercap_1952,gdpPercap_1957,gdpPercap_1962,gdpPercap_1967,gdpPercap_1972,gdpPercap_1977,gdpPercap_1982,gdpPercap_1987,gdpPercap_1992,gdpPercap_1997,gdpPercap_2002,gdpPercap_2007',\n",
       " 'Australia,10039.59564,10949.64959,12217.22686,14526.12465,16788.62948,18334.19751,19477.00928,21888.88903,23424.76683,26997.93657,30687.75473,34435.36744',\n",
       " 'New Zealand,10556.57566,12247.39532,13175.678,14463.91893,16046.03728,16233.7177,17632.4104,19007.19129,18363.32494,21050.41377,23189.80135,25185.00911']"
      ]
     },
     "execution_count": 90,
     "metadata": {},
     "output_type": "execute_result"
    }
   ],
   "source": [
    "s.strip().split(\"\\n\")"
   ]
  },
  {
   "cell_type": "code",
   "execution_count": 91,
   "id": "60218cbf-e6f8-4308-8599-0f7ea9a3cdeb",
   "metadata": {},
   "outputs": [],
   "source": [
    "#s.split(\"\\n\").strip()"
   ]
  },
  {
   "cell_type": "code",
   "execution_count": 92,
   "id": "2297e5b3-b842-4dcb-b9f4-7a84c0d589ab",
   "metadata": {},
   "outputs": [
    {
     "name": "stdout",
     "output_type": "stream",
     "text": [
      "['country', 'gdpPercap_1952', 'gdpPercap_1957', 'gdpPercap_1962', 'gdpPercap_1967', 'gdpPercap_1972', 'gdpPercap_1977', 'gdpPercap_1982', 'gdpPercap_1987', 'gdpPercap_1992', 'gdpPercap_1997', 'gdpPercap_2002', 'gdpPercap_2007', 'Australia', '10039.59564', '10949.64959', '12217.22686', '14526.12465', '16788.62948', '18334.19751', '19477.00928', '21888.88903', '23424.76683', '26997.93657', '30687.75473', '34435.36744', 'New Zealand', '10556.57566', '12247.39532', '13175.678', '14463.91893', '16046.03728', '16233.7177', '17632.4104', '19007.19129', '18363.32494', '21050.41377', '23189.80135', '25185.00911']\n"
     ]
    }
   ],
   "source": [
    "entries = []\n",
    "for row in s.strip().split(\"\\n\"):\n",
    "    for entry in row.split(\",\"):\n",
    "        entries.append(entry)\n",
    "\n",
    "print(entries)"
   ]
  },
  {
   "cell_type": "code",
   "execution_count": 93,
   "id": "54e5c574-9043-4088-96da-fd31f5259a65",
   "metadata": {},
   "outputs": [
    {
     "name": "stdout",
     "output_type": "stream",
     "text": [
      "[['country', 'gdpPercap_1952', 'gdpPercap_1957', 'gdpPercap_1962', 'gdpPercap_1967', 'gdpPercap_1972', 'gdpPercap_1977', 'gdpPercap_1982', 'gdpPercap_1987', 'gdpPercap_1992', 'gdpPercap_1997', 'gdpPercap_2002', 'gdpPercap_2007'], ['Australia', '10039.59564', '10949.64959', '12217.22686', '14526.12465', '16788.62948', '18334.19751', '19477.00928', '21888.88903', '23424.76683', '26997.93657', '30687.75473', '34435.36744'], ['New Zealand', '10556.57566', '12247.39532', '13175.678', '14463.91893', '16046.03728', '16233.7177', '17632.4104', '19007.19129', '18363.32494', '21050.41377', '23189.80135', '25185.00911']]\n"
     ]
    }
   ],
   "source": [
    "entries = []\n",
    "for row in s.strip().split(\"\\n\"):\n",
    "    values = row.split(\",\")\n",
    "    entries.append(values)\n",
    "\n",
    "print(entries)"
   ]
  },
  {
   "cell_type": "code",
   "execution_count": 94,
   "id": "be96b729-36da-4631-93dd-7331825fd0de",
   "metadata": {},
   "outputs": [
    {
     "data": {
      "text/plain": [
       "['10039.59564',\n",
       " '10949.64959',\n",
       " '12217.22686',\n",
       " '14526.12465',\n",
       " '16788.62948',\n",
       " '18334.19751',\n",
       " '19477.00928',\n",
       " '21888.88903',\n",
       " '23424.76683',\n",
       " '26997.93657',\n",
       " '30687.75473',\n",
       " '34435.36744']"
      ]
     },
     "execution_count": 94,
     "metadata": {},
     "output_type": "execute_result"
    }
   ],
   "source": [
    "entries[1][1:]"
   ]
  },
  {
   "cell_type": "raw",
   "id": "0e353b62-5e7b-48d5-8d01-7d7a03ae4757",
   "metadata": {},
   "source": [
    "sum(entries[1][1:])"
   ]
  },
  {
   "cell_type": "code",
   "execution_count": 95,
   "id": "a0670286-b4f4-435f-9b42-2e8b57785b71",
   "metadata": {},
   "outputs": [
    {
     "name": "stdout",
     "output_type": "stream",
     "text": [
      "[10039.59564, 10949.64959, 12217.22686, 14526.12465, 16788.62948, 18334.19751, 19477.00928, 21888.88903, 23424.76683, 26997.93657, 30687.75473, 34435.36744]\n"
     ]
    }
   ],
   "source": [
    "floats = []\n",
    "for entry in entries[1][1:]:\n",
    "    r = float(entry)\n",
    "    floats.append(r)\n",
    "print(floats)"
   ]
  },
  {
   "cell_type": "code",
   "execution_count": 96,
   "id": "ba374ef2-2719-4831-88da-07e978d555d4",
   "metadata": {},
   "outputs": [
    {
     "data": {
      "text/plain": [
       "19980.595634166668"
      ]
     },
     "execution_count": 96,
     "metadata": {},
     "output_type": "execute_result"
    }
   ],
   "source": [
    "sum(floats)/len(floats)"
   ]
  },
  {
   "cell_type": "code",
   "execution_count": 97,
   "id": "0a1e30a3-b257-41ad-9947-0cd23c6456c4",
   "metadata": {},
   "outputs": [
    {
     "data": {
      "text/plain": [
       "14495.021789999999"
      ]
     },
     "execution_count": 97,
     "metadata": {},
     "output_type": "execute_result"
    }
   ],
   "source": [
    "s = 0\n",
    "for country in entries[1:]:\n",
    "    s += float(country[4])\n",
    "\n",
    "s / (len(entries)-1)"
   ]
  },
  {
   "cell_type": "code",
   "execution_count": 98,
   "id": "27458f73-e00e-4572-9baa-945023357098",
   "metadata": {},
   "outputs": [
    {
     "data": {
      "text/plain": [
       "14495.021789999999"
      ]
     },
     "execution_count": 98,
     "metadata": {},
     "output_type": "execute_result"
    }
   ],
   "source": [
    "l = []\n",
    "for country in entries[1:]:\n",
    "    l.append(float(country[4]))\n",
    "\n",
    "sum(l) / (len(entries)-1)"
   ]
  },
  {
   "cell_type": "code",
   "execution_count": 99,
   "id": "4106ebe4-000b-4415-91da-a988d840e42a",
   "metadata": {},
   "outputs": [],
   "source": [
    "#import pandas as pd\n",
    "#pd.load_csv(\"./data/gapminder_gdp_oceania.csv\")"
   ]
  },
  {
   "cell_type": "code",
   "execution_count": 100,
   "id": "4a9b3c64-61c2-4c4e-8ad7-3ab910689784",
   "metadata": {},
   "outputs": [],
   "source": [
    "#entries[1:][4]"
   ]
  },
  {
   "cell_type": "code",
   "execution_count": 101,
   "id": "19c34dc9-d570-431b-93a2-f8a25410396b",
   "metadata": {},
   "outputs": [],
   "source": [
    "import numpy"
   ]
  },
  {
   "cell_type": "code",
   "execution_count": null,
   "id": "7000cb00-e1ad-46c7-9f41-9ec9b27e2347",
   "metadata": {},
   "outputs": [],
   "source": []
  }
 ],
 "metadata": {
  "kernelspec": {
   "display_name": "Python 3 (ipykernel)",
   "language": "python",
   "name": "python3"
  },
  "language_info": {
   "codemirror_mode": {
    "name": "ipython",
    "version": 3
   },
   "file_extension": ".py",
   "mimetype": "text/x-python",
   "name": "python",
   "nbconvert_exporter": "python",
   "pygments_lexer": "ipython3",
   "version": "3.12.5"
  }
 },
 "nbformat": 4,
 "nbformat_minor": 5
}
