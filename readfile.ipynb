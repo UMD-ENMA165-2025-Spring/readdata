{
 "cells": [
  {
   "cell_type": "markdown",
   "id": "78080cb2",
   "metadata": {},
   "source": [
    "## introduce numpy"
   ]
  },
  {
   "cell_type": "code",
   "execution_count": 1,
   "id": "f7947322",
   "metadata": {},
   "outputs": [],
   "source": [
    "import numpy"
   ]
  },
  {
   "cell_type": "code",
   "execution_count": 2,
   "id": "e653ddca-b327-4dc2-a61b-8588a1419252",
   "metadata": {},
   "outputs": [],
   "source": [
    "region_path = \"data/gapminder_gdp_europe.csv\""
   ]
  },
  {
   "cell_type": "code",
   "execution_count": 3,
   "id": "f1402a8d",
   "metadata": {},
   "outputs": [
    {
     "data": {
      "text/plain": [
       "array([[ 1601.056136 ,  1942.284244 ,  2312.888958 ,  2760.196931 ,\n",
       "         3313.422188 ,  3533.00391  ,  3630.880722 ,  3738.932735 ,\n",
       "         2497.437901 ,  3193.054604 ,  4604.211737 ,  5937.029526 ],\n",
       "       [ 6137.076492 ,  8842.59803  , 10750.72111  , 12834.6024   ,\n",
       "        16661.6256   , 19749.4223   , 21597.08362  , 23687.82607  ,\n",
       "        27042.01868  , 29095.92066  , 32417.60769  , 36126.4927   ],\n",
       "       [ 8343.105127 ,  9714.960623 , 10991.20676  , 13149.04119  ,\n",
       "        16672.14356  , 19117.97448  , 20979.84589  , 22525.56308  ,\n",
       "        25575.57069  , 27561.19663  , 30485.88375  , 33692.60508  ],\n",
       "       [  973.5331948,  1353.989176 ,  1709.683679 ,  2172.352423 ,\n",
       "         2860.16975  ,  3528.481305 ,  4126.613157 ,  4314.114757 ,\n",
       "         2546.781445 ,  4766.355904 ,  6018.975239 ,  7446.298803 ],\n",
       "       [ 2444.286648 ,  3008.670727 ,  4254.337839 ,  5577.0028   ,\n",
       "         6597.494398 ,  7612.240438 ,  8224.191647 ,  8239.854824 ,\n",
       "         6302.623438 ,  5970.38876  ,  7696.777725 , 10680.79282  ],\n",
       "       [ 3119.23652  ,  4338.231617 ,  5477.890018 ,  6960.297861 ,\n",
       "         9164.090127 , 11305.38517  , 13221.82184  , 13822.58394  ,\n",
       "         8447.794873 ,  9875.604515 , 11628.38895  , 14619.22272  ],\n",
       "       [ 6876.14025  ,  8256.343918 , 10136.86713  , 11399.44489  ,\n",
       "        13108.4536   , 14800.16062  , 15377.22855  , 16310.4434   ,\n",
       "        14297.02122  , 16048.51424  , 17596.21022  , 22833.30851  ],\n",
       "       [ 9692.385245 , 11099.65935  , 13583.31351  , 15937.21123  ,\n",
       "        18866.20721  , 20422.9015   , 21688.04048  , 25116.17581  ,\n",
       "        26406.73985  , 29804.34567  , 32166.50006  , 35278.41874  ],\n",
       "       [ 6424.519071 ,  7545.415386 ,  9371.842561 , 10921.63626  ,\n",
       "        14358.8759   , 15605.42283  , 18533.15761  , 21141.01223  ,\n",
       "        20647.16499  , 23723.9502   , 28204.59057  , 33207.0844   ],\n",
       "       [ 7029.809327 ,  8662.834898 , 10560.48553  , 12999.91766  ,\n",
       "        16107.19171  , 18292.63514  , 20293.89746  , 22066.44214  ,\n",
       "        24703.79615  , 25889.78487  , 28926.03234  , 30470.0167   ],\n",
       "       [ 7144.114393 , 10187.82665  , 12902.46291  , 14745.62561  ,\n",
       "        18016.18027  , 20512.92123  , 22031.53274  , 24639.18566  ,\n",
       "        26505.30317  , 27788.88416  , 30035.80198  , 32170.37442  ],\n",
       "       [ 3530.690067 ,  4916.299889 ,  6017.190733 ,  8513.097016 ,\n",
       "        12724.82957  , 14195.52428  , 15268.42089  , 16120.52839  ,\n",
       "        17541.49634  , 18747.69814  , 22514.2548   , 27538.41188  ],\n",
       "       [ 5263.673816 ,  6040.180011 ,  7550.359877 ,  9326.64467  ,\n",
       "        10168.65611  , 11674.83737  , 12545.99066  , 12986.47998  ,\n",
       "        10535.62855  , 11712.7768   , 14843.93556  , 18008.94444  ],\n",
       "       [ 7267.688428 ,  9244.001412 , 10350.15906  , 13319.89568  ,\n",
       "        15798.06362  , 19654.96247  , 23269.6075   , 26923.20628  ,\n",
       "        25144.39201  , 28061.09966  , 31163.20196  , 36180.78919  ],\n",
       "       [ 5210.280328 ,  5599.077872 ,  6631.597314 ,  7655.568963 ,\n",
       "         9530.772896 , 11150.98113  , 12618.32141  , 13872.86652  ,\n",
       "        17558.81555  , 24521.94713  , 34077.04939  , 40675.99635  ],\n",
       "       [ 4931.404155 ,  6248.656232 ,  8243.58234  , 10022.40131  ,\n",
       "        12269.27378  , 14255.98475  , 16537.4835   , 19207.23482  ,\n",
       "        22013.64486  , 24675.02446  , 27968.09817  , 28569.7197   ],\n",
       "       [ 2647.585601 ,  3682.259903 ,  4649.593785 ,  5907.850937 ,\n",
       "         7778.414017 ,  9595.929905 , 11222.58762  , 11732.51017  ,\n",
       "         7003.339037 ,  6465.613349 ,  6557.194282 ,  9253.896111 ],\n",
       "       [ 8941.571858 , 11276.19344  , 12790.84956  , 15363.25136  ,\n",
       "        18794.74567  , 21209.0592   , 21399.46046  , 23651.32361  ,\n",
       "        26790.94961  , 30246.13063  , 33724.75778  , 36797.93332  ],\n",
       "       [10095.42172  , 11653.97304  , 13450.40151  , 16361.87647  ,\n",
       "        18965.05551  , 23311.34939  , 26298.63531  , 31540.9748   ,\n",
       "        33965.66115  , 41283.16433  , 44683.97525  , 49357.19017  ],\n",
       "       [ 4029.329699 ,  4734.253019 ,  5338.752143 ,  6557.152776 ,\n",
       "         8006.506993 ,  9508.141454 ,  8451.531004 ,  9082.351172 ,\n",
       "         7738.881247 , 10159.58368  , 12002.23908  , 15389.92468  ],\n",
       "       [ 3068.319867 ,  3774.571743 ,  4727.954889 ,  6361.517993 ,\n",
       "         9022.247417 , 10172.48572  , 11753.84291  , 13039.30876  ,\n",
       "        16207.26663  , 17641.03156  , 19970.90787  , 20509.64777  ],\n",
       "       [ 3144.613186 ,  3943.370225 ,  4734.997586 ,  6470.866545 ,\n",
       "         8011.414402 ,  9356.39724  ,  9605.314053 ,  9696.273295 ,\n",
       "         6598.409903 ,  7346.547557 ,  7885.360081 , 10808.47561  ],\n",
       "       [ 3581.459448 ,  4981.090891 ,  6289.629157 ,  7991.707066 ,\n",
       "        10522.06749  , 12980.66956  , 15181.0927   , 15870.87851  ,\n",
       "         9325.068238 ,  7914.320304 ,  7236.075251 ,  9786.534714 ],\n",
       "       [ 5074.659104 ,  6093.26298  ,  7481.107598 ,  8412.902397 ,\n",
       "         9674.167626 , 10922.66404  , 11348.54585  , 12037.26758  ,\n",
       "         9498.467723 , 12126.23065  , 13638.77837  , 18678.31435  ],\n",
       "       [ 4215.041741 ,  5862.276629 ,  7402.303395 ,  9405.489397 ,\n",
       "        12383.4862   , 15277.03017  , 17866.72175  , 18678.53492  ,\n",
       "        14214.71681  , 17161.10735  , 20660.01936  , 25768.25759  ],\n",
       "       [ 3834.034742 ,  4564.80241  ,  5693.843879 ,  7993.512294 ,\n",
       "        10638.75131  , 13236.92117  , 13926.16997  , 15764.98313  ,\n",
       "        18603.06452  , 20445.29896  , 24835.47166  , 28821.0637   ],\n",
       "       [ 8527.844662 ,  9911.878226 , 12329.44192  , 15258.29697  ,\n",
       "        17832.02464  , 18855.72521  , 20667.38125  , 23586.92927  ,\n",
       "        23880.01683  , 25266.59499  , 29341.63093  , 33859.74835  ],\n",
       "       [14734.23275  , 17909.48973  , 20431.0927   , 22966.14432  ,\n",
       "        27195.11304  , 26982.29052  , 28397.71512  , 30281.70459  ,\n",
       "        31871.5303   , 32135.32301  , 34480.95771  , 37506.41907  ],\n",
       "       [ 1969.10098  ,  2218.754257 ,  2322.869908 ,  2826.356387 ,\n",
       "         3450.69638  ,  4269.122326 ,  4241.356344 ,  5089.043686 ,\n",
       "         5678.348271 ,  6601.429915 ,  6508.085718 ,  8458.276384 ],\n",
       "       [ 9979.508487 , 11283.17795  , 12477.17707  , 14142.85089  ,\n",
       "        15895.11641  , 17428.74846  , 18232.42452  , 21664.78767  ,\n",
       "        22705.09254  , 26074.53136  , 29478.99919  , 33203.26128  ]])"
      ]
     },
     "execution_count": 3,
     "metadata": {},
     "output_type": "execute_result"
    }
   ],
   "source": [
    "numpy.loadtxt(skiprows=1,fname=region_path,usecols=range(1,13),delimiter=\",\")"
   ]
  },
  {
   "cell_type": "code",
   "execution_count": 4,
   "id": "b5e4bc11",
   "metadata": {},
   "outputs": [],
   "source": [
    "variable0=numpy.loadtxt(skiprows=1,fname=region_path,usecols=range(1,13),delimiter=\",\")\n",
    "rowzero=variable0[0]"
   ]
  },
  {
   "cell_type": "code",
   "execution_count": 5,
   "id": "258dd409-5cee-4a71-a2e8-0d7ca3b4a8e5",
   "metadata": {},
   "outputs": [
    {
     "data": {
      "text/plain": [
       "numpy.ndarray"
      ]
     },
     "execution_count": 5,
     "metadata": {},
     "output_type": "execute_result"
    }
   ],
   "source": [
    "type(rowzero)"
   ]
  },
  {
   "cell_type": "code",
   "execution_count": 6,
   "id": "085ac974-d753-4293-955f-17af44987f75",
   "metadata": {},
   "outputs": [
    {
     "data": {
      "text/plain": [
       "3255.3666326666666"
      ]
     },
     "execution_count": 6,
     "metadata": {},
     "output_type": "execute_result"
    }
   ],
   "source": [
    "rowzero.mean()"
   ]
  },
  {
   "cell_type": "code",
   "execution_count": 7,
   "id": "315215c7-071a-49d0-94d3-7f100ed46cc7",
   "metadata": {},
   "outputs": [
    {
     "data": {
      "text/plain": [
       "array([1601.056136, 1942.284244, 2312.888958, 2760.196931, 3313.422188,\n",
       "       3533.00391 , 3630.880722, 3738.932735, 2497.437901, 3193.054604,\n",
       "       4604.211737, 5937.029526])"
      ]
     },
     "execution_count": 7,
     "metadata": {},
     "output_type": "execute_result"
    }
   ],
   "source": [
    "variable0[0][0:]"
   ]
  },
  {
   "cell_type": "code",
   "execution_count": 8,
   "id": "f7ff757e-cec7-4945-9bfe-4acf01659223",
   "metadata": {},
   "outputs": [
    {
     "data": {
      "text/plain": [
       "2760.196931"
      ]
     },
     "execution_count": 8,
     "metadata": {},
     "output_type": "execute_result"
    }
   ],
   "source": [
    "variable0[0:][0][3]"
   ]
  },
  {
   "cell_type": "code",
   "execution_count": 9,
   "id": "a7577569-380e-4883-8709-7593221980b3",
   "metadata": {},
   "outputs": [
    {
     "data": {
      "text/plain": [
       "array([ 2760.196931, 12834.6024  , 13149.04119 ,  2172.352423,\n",
       "        5577.0028  ,  6960.297861, 11399.44489 , 15937.21123 ,\n",
       "       10921.63626 , 12999.91766 , 14745.62561 ,  8513.097016,\n",
       "        9326.64467 , 13319.89568 ,  7655.568963, 10022.40131 ,\n",
       "        5907.850937, 15363.25136 , 16361.87647 ,  6557.152776,\n",
       "        6361.517993,  6470.866545,  7991.707066,  8412.902397,\n",
       "        9405.489397,  7993.512294, 15258.29697 , 22966.14432 ,\n",
       "        2826.356387, 14142.85089 ])"
      ]
     },
     "execution_count": 9,
     "metadata": {},
     "output_type": "execute_result"
    }
   ],
   "source": [
    "variable0[:,3]"
   ]
  },
  {
   "cell_type": "code",
   "execution_count": 10,
   "id": "8afc5e1d-15f9-4f04-929b-c772fde49d76",
   "metadata": {},
   "outputs": [
    {
     "data": {
      "text/plain": [
       "10143.823756533335"
      ]
     },
     "execution_count": 10,
     "metadata": {},
     "output_type": "execute_result"
    }
   ],
   "source": [
    "fourthcolumbdata=variable0[:,3]\n",
    "fourthcolumbdata.mean()"
   ]
  },
  {
   "cell_type": "code",
   "execution_count": 11,
   "id": "5b71bf11-e535-4a00-ae69-fa3b986a587c",
   "metadata": {},
   "outputs": [
    {
     "data": {
      "text/plain": [
       "array([ 1601.056136 ,  6137.076492 ,  8343.105127 ,   973.5331948,\n",
       "        2444.286648 ,  3119.23652  ,  6876.14025  ,  9692.385245 ,\n",
       "        6424.519071 ,  7029.809327 ,  7144.114393 ,  3530.690067 ,\n",
       "        5263.673816 ,  7267.688428 ,  5210.280328 ,  4931.404155 ,\n",
       "        2647.585601 ,  8941.571858 , 10095.42172  ,  4029.329699 ,\n",
       "        3068.319867 ,  3144.613186 ,  3581.459448 ,  5074.659104 ,\n",
       "        4215.041741 ,  3834.034742 ,  8527.844662 , 14734.23275  ,\n",
       "        1969.10098  ,  9979.508487 ])"
      ]
     },
     "execution_count": 11,
     "metadata": {},
     "output_type": "execute_result"
    }
   ],
   "source": [
    "variable0[:,0]"
   ]
  },
  {
   "cell_type": "code",
   "execution_count": 12,
   "id": "d013958d-1744-44bf-a98c-bd7408fc27e6",
   "metadata": {},
   "outputs": [
    {
     "data": {
      "text/plain": [
       "array([1601.056136, 1942.284244, 2312.888958, 2760.196931, 3313.422188,\n",
       "       3533.00391 , 3630.880722, 3738.932735, 2497.437901, 3193.054604,\n",
       "       4604.211737, 5937.029526])"
      ]
     },
     "execution_count": 12,
     "metadata": {},
     "output_type": "execute_result"
    }
   ],
   "source": [
    "variable0[0]"
   ]
  },
  {
   "cell_type": "code",
   "execution_count": 13,
   "id": "19e1b1ea-dea0-4a72-aa21-1071da062928",
   "metadata": {},
   "outputs": [
    {
     "data": {
      "text/plain": [
       "array([1601.056136, 1942.284244, 2312.888958, 2760.196931, 3313.422188,\n",
       "       3533.00391 , 3630.880722, 3738.932735, 2497.437901, 3193.054604,\n",
       "       4604.211737, 5937.029526])"
      ]
     },
     "execution_count": 13,
     "metadata": {},
     "output_type": "execute_result"
    }
   ],
   "source": [
    "variable0[0,:]"
   ]
  },
  {
   "cell_type": "code",
   "execution_count": 14,
   "id": "eb1df009-ac0f-455a-a75c-19a3925d90e7",
   "metadata": {},
   "outputs": [
    {
     "data": {
      "text/plain": [
       "array([1601.056136, 1942.284244, 2312.888958, 2760.196931, 3313.422188,\n",
       "       3533.00391 , 3630.880722, 3738.932735, 2497.437901, 3193.054604,\n",
       "       4604.211737, 5937.029526])"
      ]
     },
     "execution_count": 14,
     "metadata": {},
     "output_type": "execute_result"
    }
   ],
   "source": [
    "variable0[0,...]"
   ]
  },
  {
   "cell_type": "markdown",
   "id": "711e1690-7164-455b-b611-f13b72578038",
   "metadata": {},
   "source": [
    "## read headings "
   ]
  },
  {
   "cell_type": "markdown",
   "id": "d6263787-fa76-497b-b030-3eaa88eb7a3f",
   "metadata": {},
   "source": [
    "### read coloum headings"
   ]
  },
  {
   "cell_type": "code",
   "execution_count": 15,
   "id": "e00f71a2-83a2-4090-b331-75b6a333d5d2",
   "metadata": {},
   "outputs": [
    {
     "name": "stdout",
     "output_type": "stream",
     "text": [
      "[['country', 'gdpPercap_1952', 'gdpPercap_1957', 'gdpPercap_1962', 'gdpPercap_1967', 'gdpPercap_1972', 'gdpPercap_1977', 'gdpPercap_1982', 'gdpPercap_1987', 'gdpPercap_1992', 'gdpPercap_1997', 'gdpPercap_2002', 'gdpPercap_2007']]\n"
     ]
    }
   ],
   "source": [
    "f = open(region_path,\"r\")\n",
    "s=f.readline()\n",
    "entries = []\n",
    "for row in s.strip().split(\"\\n\"):\n",
    "    values = row.split(\",\")\n",
    "    entries.append(values)\n",
    "\n",
    "print(entries)"
   ]
  },
  {
   "cell_type": "code",
   "execution_count": 16,
   "id": "20738cef-e75f-4f2c-815f-aa832fac62b5",
   "metadata": {},
   "outputs": [
    {
     "name": "stdout",
     "output_type": "stream",
     "text": [
      "[1952, 1957, 1962, 1967, 1972, 1977, 1982, 1987, 1992, 1997, 2002, 2007]\n"
     ]
    }
   ],
   "source": [
    "f = open(region_path,\"r\")\n",
    "s=f.readline()\n",
    "row=s.strip(\"\\n\")\n",
    "\n",
    "\n",
    "values = row.split(\",\")\n",
    "\n",
    "newlist=[]\n",
    "for gdp in values[1:13]:\n",
    "    gdp=gdp.strip(\"gdpPercap_\")\n",
    "    newlist.append(int(gdp))\n",
    "    \n",
    "\n",
    "print(newlist)\n",
    "\n",
    "entries.append(values)\n"
   ]
  },
  {
   "cell_type": "markdown",
   "id": "7c01b644-acb2-4128-96d9-f67e780dbe6e",
   "metadata": {},
   "source": [
    "### Read Row Headings"
   ]
  },
  {
   "cell_type": "code",
   "execution_count": 17,
   "id": "4fea6982-6bda-4f62-b152-6e4eff10b307",
   "metadata": {},
   "outputs": [],
   "source": [
    "f = open(region_path,\"r\")\n",
    "s=f.read()\n"
   ]
  },
  {
   "cell_type": "code",
   "execution_count": 18,
   "id": "f73e7182-d24e-4e48-9905-8a0e022163c7",
   "metadata": {},
   "outputs": [
    {
     "name": "stdout",
     "output_type": "stream",
     "text": [
      "['Albania', 'Austria', 'Belgium', 'Bosnia and Herzegovina', 'Bulgaria', 'Croatia', 'Czech Republic', 'Denmark', 'Finland', 'France', 'Germany', 'Greece', 'Hungary', 'Iceland', 'Ireland', 'Italy', 'Montenegro', 'Netherlands', 'Norway', 'Poland', 'Portugal', 'Romania', 'Serbia', 'Slovak Republic', 'Slovenia', 'Spain', 'Sweden', 'Switzerland', 'Turkey', 'United Kingdom']\n"
     ]
    }
   ],
   "source": [
    "entries = []\n",
    "for row in s.strip().split(\"\\n\"):\n",
    "    values = row.split(\",\")\n",
    "    entries.append(values[0])\n",
    "entries=entries[1:]\n",
    "print(entries)"
   ]
  },
  {
   "cell_type": "markdown",
   "id": "d3e4c6c9-78d6-4234-a2e2-26160966f9de",
   "metadata": {},
   "source": [
    "## Plotting"
   ]
  },
  {
   "cell_type": "code",
   "execution_count": 19,
   "id": "49473191-8f4b-4a01-8b20-cfc5c6797701",
   "metadata": {},
   "outputs": [],
   "source": [
    "import matplotlib.pyplot as plt"
   ]
  },
  {
   "cell_type": "code",
   "execution_count": 20,
   "id": "3b3def97-9c81-4fe7-a735-508ef9394788",
   "metadata": {},
   "outputs": [
    {
     "data": {
      "text/plain": [
       "[<matplotlib.lines.Line2D at 0x7f781902fcd0>,\n",
       " <matplotlib.lines.Line2D at 0x7f781902fdc0>]"
      ]
     },
     "execution_count": 20,
     "metadata": {},
     "output_type": "execute_result"
    },
    {
     "data": {
      "image/png": "[encoded data removed]",
      "text/plain": [
       "<Figure size 432x288 with 1 Axes>"
      ]
     },
     "metadata": {
      "needs_background": "light"
     },
     "output_type": "display_data"
    }
   ],
   "source": [
    "plt.plot(rowzero,\"r-\", variable0[1])"
   ]
  },
  {
   "cell_type": "code",
   "execution_count": 21,
   "id": "4a12ab69-fcac-420a-b87d-2742ceeb9b57",
   "metadata": {},
   "outputs": [
    {
     "data": {
      "image/png": "[encoded data removed]",
      "text/plain": [
       "<Figure size 432x288 with 1 Axes>"
      ]
     },
     "metadata": {
      "needs_background": "light"
     },
     "output_type": "display_data"
    }
   ],
   "source": [
    "_ = plt.plot(rowzero,\"r-\", variable0[1])"
   ]
  },
  {
   "cell_type": "code",
   "execution_count": 22,
   "id": "6e95807b-9648-45ff-94b5-e122fd1557bc",
   "metadata": {},
   "outputs": [
    {
     "data": {
      "text/plain": [
       "Text(0, 0.5, 'gdp/capita')"
      ]
     },
     "execution_count": 22,
     "metadata": {},
     "output_type": "execute_result"
    },
    {
     "data": {
      "image/png": "[encoded data removed]",
      "text/plain": [
       "<Figure size 432x288 with 1 Axes>"
      ]
     },
     "metadata": {
      "needs_background": "light"
     },
     "output_type": "display_data"
    }
   ],
   "source": [
    "_ = plt.plot(rowzero,\"r-\", label = \"Autraila\")\n",
    "_ = plt.plot(variable0[1], label = \"New Zeland\")\n",
    "plt.legend()\n",
    "plt.ylabel(\"gdp/capita\")"
   ]
  },
  {
   "cell_type": "code",
   "execution_count": 23,
   "id": "f8613c63-cffe-472d-8363-621524946708",
   "metadata": {},
   "outputs": [
    {
     "data": {
      "text/plain": [
       "Text(0.5, 0, 'year')"
      ]
     },
     "execution_count": 23,
     "metadata": {},
     "output_type": "execute_result"
    },
    {
     "data": {
      "image/png": "[encoded data removed]",
      "text/plain": [
       "<Figure size 432x288 with 1 Axes>"
      ]
     },
     "metadata": {
      "needs_background": "light"
     },
     "output_type": "display_data"
    }
   ],
   "source": [
    "#_ = plt.plot(newlist,rowzero,\"r-\", label = entries[0] )\n",
    "#_ = plt.plot(newlist,variable0[1], label = entries[1])\n",
    "\n",
    "\n",
    "\n",
    "\n",
    "for line in zip(entries,variable0):\n",
    "    plt.plot(newlist,line[1], label=line[0])\n",
    "plt.legend()\n",
    "plt.ylabel(\"gdp/capita\")  \n",
    "plt.xlabel(\"year\")"
   ]
  },
  {
   "cell_type": "code",
   "execution_count": 25,
   "id": "970b3b47-0ed8-4e53-a651-e1e8b045fafb",
   "metadata": {},
   "outputs": [],
   "source": [
    "import pandas as pd"
   ]
  },
  {
   "cell_type": "code",
   "execution_count": 35,
   "id": "9af08b9d-3a12-487a-b553-b27f1d7b88ac",
   "metadata": {},
   "outputs": [],
   "source": [
    "data_reader = pd.read_csv(\"data/gapminder_gdp_oceania.csv\")\n",
    "\n"
   ]
  },
  {
   "cell_type": "code",
   "execution_count": 29,
   "id": "50c5af77-0b66-40e6-9f75-cfc5ac12fcd6",
   "metadata": {},
   "outputs": [
    {
     "data": {
      "text/html": [
       "<div>\n",
       "<style scoped>\n",
       "    .dataframe tbody tr th:only-of-type {\n",
       "        vertical-align: middle;\n",
       "    }\n",
       "\n",
       "    .dataframe tbody tr th {\n",
       "        vertical-align: top;\n",
       "    }\n",
       "\n",
       "    .dataframe thead th {\n",
       "        text-align: right;\n",
       "    }\n",
       "</style>\n",
       "<table border=\"1\" class=\"dataframe\">\n",
       "  <thead>\n",
       "    <tr style=\"text-align: right;\">\n",
       "      <th></th>\n",
       "      <th>country</th>\n",
       "      <th>gdpPercap_1952</th>\n",
       "      <th>gdpPercap_1957</th>\n",
       "      <th>gdpPercap_1962</th>\n",
       "      <th>gdpPercap_1967</th>\n",
       "      <th>gdpPercap_1972</th>\n",
       "      <th>gdpPercap_1977</th>\n",
       "      <th>gdpPercap_1982</th>\n",
       "      <th>gdpPercap_1987</th>\n",
       "      <th>gdpPercap_1992</th>\n",
       "      <th>gdpPercap_1997</th>\n",
       "      <th>gdpPercap_2002</th>\n",
       "      <th>gdpPercap_2007</th>\n",
       "    </tr>\n",
       "  </thead>\n",
       "  <tbody>\n",
       "    <tr>\n",
       "      <th>0</th>\n",
       "      <td>Australia</td>\n",
       "      <td>10039.59564</td>\n",
       "      <td>10949.64959</td>\n",
       "      <td>12217.22686</td>\n",
       "      <td>14526.12465</td>\n",
       "      <td>16788.62948</td>\n",
       "      <td>18334.19751</td>\n",
       "      <td>19477.00928</td>\n",
       "      <td>21888.88903</td>\n",
       "      <td>23424.76683</td>\n",
       "      <td>26997.93657</td>\n",
       "      <td>30687.75473</td>\n",
       "      <td>34435.36744</td>\n",
       "    </tr>\n",
       "    <tr>\n",
       "      <th>1</th>\n",
       "      <td>New Zealand</td>\n",
       "      <td>10556.57566</td>\n",
       "      <td>12247.39532</td>\n",
       "      <td>13175.67800</td>\n",
       "      <td>14463.91893</td>\n",
       "      <td>16046.03728</td>\n",
       "      <td>16233.71770</td>\n",
       "      <td>17632.41040</td>\n",
       "      <td>19007.19129</td>\n",
       "      <td>18363.32494</td>\n",
       "      <td>21050.41377</td>\n",
       "      <td>23189.80135</td>\n",
       "      <td>25185.00911</td>\n",
       "    </tr>\n",
       "  </tbody>\n",
       "</table>\n",
       "</div>"
      ],
      "text/plain": [
       "       country  gdpPercap_1952  gdpPercap_1957  gdpPercap_1962  \\\n",
       "0    Australia     10039.59564     10949.64959     12217.22686   \n",
       "1  New Zealand     10556.57566     12247.39532     13175.67800   \n",
       "\n",
       "   gdpPercap_1967  gdpPercap_1972  gdpPercap_1977  gdpPercap_1982  \\\n",
       "0     14526.12465     16788.62948     18334.19751     19477.00928   \n",
       "1     14463.91893     16046.03728     16233.71770     17632.41040   \n",
       "\n",
       "   gdpPercap_1987  gdpPercap_1992  gdpPercap_1997  gdpPercap_2002  \\\n",
       "0     21888.88903     23424.76683     26997.93657     30687.75473   \n",
       "1     19007.19129     18363.32494     21050.41377     23189.80135   \n",
       "\n",
       "   gdpPercap_2007  \n",
       "0     34435.36744  \n",
       "1     25185.00911  "
      ]
     },
     "execution_count": 29,
     "metadata": {},
     "output_type": "execute_result"
    }
   ],
   "source": [
    "data_reader"
   ]
  },
  {
   "cell_type": "code",
   "execution_count": 30,
   "id": "579f5aed-d164-474b-9fb2-d6328dcac08f",
   "metadata": {},
   "outputs": [
    {
     "name": "stdout",
     "output_type": "stream",
     "text": [
      "             gdpPercap_1952  gdpPercap_1957  gdpPercap_1962  gdpPercap_1967  \\\n",
      "country                                                                       \n",
      "Australia       10039.59564     10949.64959     12217.22686     14526.12465   \n",
      "New Zealand     10556.57566     12247.39532     13175.67800     14463.91893   \n",
      "\n",
      "             gdpPercap_1972  gdpPercap_1977  gdpPercap_1982  gdpPercap_1987  \\\n",
      "country                                                                       \n",
      "Australia       16788.62948     18334.19751     19477.00928     21888.88903   \n",
      "New Zealand     16046.03728     16233.71770     17632.41040     19007.19129   \n",
      "\n",
      "             gdpPercap_1992  gdpPercap_1997  gdpPercap_2002  gdpPercap_2007  \n",
      "country                                                                      \n",
      "Australia       23424.76683     26997.93657     30687.75473     34435.36744  \n",
      "New Zealand     18363.32494     21050.41377     23189.80135     25185.00911  \n"
     ]
    }
   ],
   "source": [
    "data_reader = pd.read_csv(\"data/gapminder_gdp_oceania.csv\", index_col = \"country\")\n",
    "print(data_reader)\n"
   ]
  },
  {
   "cell_type": "code",
   "execution_count": 32,
   "id": "74b6aacf-09a5-4b78-b55e-edbbccd49ec8",
   "metadata": {},
   "outputs": [
    {
     "name": "stdout",
     "output_type": "stream",
     "text": [
      "<class 'pandas.core.frame.DataFrame'>\n",
      "Index: 2 entries, Australia to New Zealand\n",
      "Data columns (total 12 columns):\n",
      " #   Column          Non-Null Count  Dtype  \n",
      "---  ------          --------------  -----  \n",
      " 0   gdpPercap_1952  2 non-null      float64\n",
      " 1   gdpPercap_1957  2 non-null      float64\n",
      " 2   gdpPercap_1962  2 non-null      float64\n",
      " 3   gdpPercap_1967  2 non-null      float64\n",
      " 4   gdpPercap_1972  2 non-null      float64\n",
      " 5   gdpPercap_1977  2 non-null      float64\n",
      " 6   gdpPercap_1982  2 non-null      float64\n",
      " 7   gdpPercap_1987  2 non-null      float64\n",
      " 8   gdpPercap_1992  2 non-null      float64\n",
      " 9   gdpPercap_1997  2 non-null      float64\n",
      " 10  gdpPercap_2002  2 non-null      float64\n",
      " 11  gdpPercap_2007  2 non-null      float64\n",
      "dtypes: float64(12)\n",
      "memory usage: 208.0+ bytes\n"
     ]
    }
   ],
   "source": [
    "data_reader.info()"
   ]
  },
  {
   "cell_type": "code",
   "execution_count": 34,
   "id": "ccc5661e-ddf3-4843-bd60-585fd8db7266",
   "metadata": {},
   "outputs": [
    {
     "data": {
      "text/plain": [
       "Index(['gdpPercap_1952', 'gdpPercap_1957', 'gdpPercap_1962', 'gdpPercap_1967',\n",
       "       'gdpPercap_1972', 'gdpPercap_1977', 'gdpPercap_1982', 'gdpPercap_1987',\n",
       "       'gdpPercap_1992', 'gdpPercap_1997', 'gdpPercap_2002', 'gdpPercap_2007'],\n",
       "      dtype='object')"
      ]
     },
     "execution_count": 34,
     "metadata": {},
     "output_type": "execute_result"
    }
   ],
   "source": [
    "data_reader.columns"
   ]
  },
  {
   "cell_type": "code",
   "execution_count": 67,
   "id": "8110ce54-10c4-4204-b28b-e730c62b3d54",
   "metadata": {},
   "outputs": [],
   "source": [
    "data_reader = pd.read_csv(\"data/gapminder_gdp_americas.csv\", index_col = \"country\")"
   ]
  },
  {
   "cell_type": "code",
   "execution_count": 68,
   "id": "2d1c4ecc-062c-4ca5-87f5-bdbb50cf3408",
   "metadata": {},
   "outputs": [
    {
     "data": {
      "text/html": [
       "<div>\n",
       "<style scoped>\n",
       "    .dataframe tbody tr th:only-of-type {\n",
       "        vertical-align: middle;\n",
       "    }\n",
       "\n",
       "    .dataframe tbody tr th {\n",
       "        vertical-align: top;\n",
       "    }\n",
       "\n",
       "    .dataframe thead th {\n",
       "        text-align: right;\n",
       "    }\n",
       "</style>\n",
       "<table border=\"1\" class=\"dataframe\">\n",
       "  <thead>\n",
       "    <tr style=\"text-align: right;\">\n",
       "      <th></th>\n",
       "      <th>continent</th>\n",
       "      <th>gdpPercap_1952</th>\n",
       "      <th>gdpPercap_1957</th>\n",
       "      <th>gdpPercap_1962</th>\n",
       "      <th>gdpPercap_1967</th>\n",
       "      <th>gdpPercap_1972</th>\n",
       "      <th>gdpPercap_1977</th>\n",
       "      <th>gdpPercap_1982</th>\n",
       "      <th>gdpPercap_1987</th>\n",
       "      <th>gdpPercap_1992</th>\n",
       "      <th>gdpPercap_1997</th>\n",
       "      <th>gdpPercap_2002</th>\n",
       "      <th>gdpPercap_2007</th>\n",
       "    </tr>\n",
       "    <tr>\n",
       "      <th>country</th>\n",
       "      <th></th>\n",
       "      <th></th>\n",
       "      <th></th>\n",
       "      <th></th>\n",
       "      <th></th>\n",
       "      <th></th>\n",
       "      <th></th>\n",
       "      <th></th>\n",
       "      <th></th>\n",
       "      <th></th>\n",
       "      <th></th>\n",
       "      <th></th>\n",
       "      <th></th>\n",
       "    </tr>\n",
       "  </thead>\n",
       "  <tbody>\n",
       "    <tr>\n",
       "      <th>Argentina</th>\n",
       "      <td>Americas</td>\n",
       "      <td>5911.315053</td>\n",
       "      <td>6856.856212</td>\n",
       "      <td>7133.166023</td>\n",
       "      <td>8052.953021</td>\n",
       "      <td>9443.038526</td>\n",
       "      <td>10079.026740</td>\n",
       "      <td>8997.897412</td>\n",
       "      <td>9139.671389</td>\n",
       "      <td>9308.418710</td>\n",
       "      <td>10967.281950</td>\n",
       "      <td>8797.640716</td>\n",
       "      <td>12779.379640</td>\n",
       "    </tr>\n",
       "    <tr>\n",
       "      <th>Bolivia</th>\n",
       "      <td>Americas</td>\n",
       "      <td>2677.326347</td>\n",
       "      <td>2127.686326</td>\n",
       "      <td>2180.972546</td>\n",
       "      <td>2586.886053</td>\n",
       "      <td>2980.331339</td>\n",
       "      <td>3548.097832</td>\n",
       "      <td>3156.510452</td>\n",
       "      <td>2753.691490</td>\n",
       "      <td>2961.699694</td>\n",
       "      <td>3326.143191</td>\n",
       "      <td>3413.262690</td>\n",
       "      <td>3822.137084</td>\n",
       "    </tr>\n",
       "    <tr>\n",
       "      <th>Brazil</th>\n",
       "      <td>Americas</td>\n",
       "      <td>2108.944355</td>\n",
       "      <td>2487.365989</td>\n",
       "      <td>3336.585802</td>\n",
       "      <td>3429.864357</td>\n",
       "      <td>4985.711467</td>\n",
       "      <td>6660.118654</td>\n",
       "      <td>7030.835878</td>\n",
       "      <td>7807.095818</td>\n",
       "      <td>6950.283021</td>\n",
       "      <td>7957.980824</td>\n",
       "      <td>8131.212843</td>\n",
       "      <td>9065.800825</td>\n",
       "    </tr>\n",
       "    <tr>\n",
       "      <th>Canada</th>\n",
       "      <td>Americas</td>\n",
       "      <td>11367.161120</td>\n",
       "      <td>12489.950060</td>\n",
       "      <td>13462.485550</td>\n",
       "      <td>16076.588030</td>\n",
       "      <td>18970.570860</td>\n",
       "      <td>22090.883060</td>\n",
       "      <td>22898.792140</td>\n",
       "      <td>26626.515030</td>\n",
       "      <td>26342.884260</td>\n",
       "      <td>28954.925890</td>\n",
       "      <td>33328.965070</td>\n",
       "      <td>36319.235010</td>\n",
       "    </tr>\n",
       "    <tr>\n",
       "      <th>Chile</th>\n",
       "      <td>Americas</td>\n",
       "      <td>3939.978789</td>\n",
       "      <td>4315.622723</td>\n",
       "      <td>4519.094331</td>\n",
       "      <td>5106.654313</td>\n",
       "      <td>5494.024437</td>\n",
       "      <td>4756.763836</td>\n",
       "      <td>5095.665738</td>\n",
       "      <td>5547.063754</td>\n",
       "      <td>7596.125964</td>\n",
       "      <td>10118.053180</td>\n",
       "      <td>10778.783850</td>\n",
       "      <td>13171.638850</td>\n",
       "    </tr>\n",
       "    <tr>\n",
       "      <th>Colombia</th>\n",
       "      <td>Americas</td>\n",
       "      <td>2144.115096</td>\n",
       "      <td>2323.805581</td>\n",
       "      <td>2492.351109</td>\n",
       "      <td>2678.729839</td>\n",
       "      <td>3264.660041</td>\n",
       "      <td>3815.807870</td>\n",
       "      <td>4397.575659</td>\n",
       "      <td>4903.219100</td>\n",
       "      <td>5444.648617</td>\n",
       "      <td>6117.361746</td>\n",
       "      <td>5755.259962</td>\n",
       "      <td>7006.580419</td>\n",
       "    </tr>\n",
       "    <tr>\n",
       "      <th>Costa Rica</th>\n",
       "      <td>Americas</td>\n",
       "      <td>2627.009471</td>\n",
       "      <td>2990.010802</td>\n",
       "      <td>3460.937025</td>\n",
       "      <td>4161.727834</td>\n",
       "      <td>5118.146939</td>\n",
       "      <td>5926.876967</td>\n",
       "      <td>5262.734751</td>\n",
       "      <td>5629.915318</td>\n",
       "      <td>6160.416317</td>\n",
       "      <td>6677.045314</td>\n",
       "      <td>7723.447195</td>\n",
       "      <td>9645.061420</td>\n",
       "    </tr>\n",
       "    <tr>\n",
       "      <th>Cuba</th>\n",
       "      <td>Americas</td>\n",
       "      <td>5586.538780</td>\n",
       "      <td>6092.174359</td>\n",
       "      <td>5180.755910</td>\n",
       "      <td>5690.268015</td>\n",
       "      <td>5305.445256</td>\n",
       "      <td>6380.494966</td>\n",
       "      <td>7316.918107</td>\n",
       "      <td>7532.924763</td>\n",
       "      <td>5592.843963</td>\n",
       "      <td>5431.990415</td>\n",
       "      <td>6340.646683</td>\n",
       "      <td>8948.102923</td>\n",
       "    </tr>\n",
       "    <tr>\n",
       "      <th>Dominican Republic</th>\n",
       "      <td>Americas</td>\n",
       "      <td>1397.717137</td>\n",
       "      <td>1544.402995</td>\n",
       "      <td>1662.137359</td>\n",
       "      <td>1653.723003</td>\n",
       "      <td>2189.874499</td>\n",
       "      <td>2681.988900</td>\n",
       "      <td>2861.092386</td>\n",
       "      <td>2899.842175</td>\n",
       "      <td>3044.214214</td>\n",
       "      <td>3614.101285</td>\n",
       "      <td>4563.808154</td>\n",
       "      <td>6025.374752</td>\n",
       "    </tr>\n",
       "    <tr>\n",
       "      <th>Ecuador</th>\n",
       "      <td>Americas</td>\n",
       "      <td>3522.110717</td>\n",
       "      <td>3780.546651</td>\n",
       "      <td>4086.114078</td>\n",
       "      <td>4579.074215</td>\n",
       "      <td>5280.994710</td>\n",
       "      <td>6679.623260</td>\n",
       "      <td>7213.791267</td>\n",
       "      <td>6481.776993</td>\n",
       "      <td>7103.702595</td>\n",
       "      <td>7429.455877</td>\n",
       "      <td>5773.044512</td>\n",
       "      <td>6873.262326</td>\n",
       "    </tr>\n",
       "    <tr>\n",
       "      <th>El Salvador</th>\n",
       "      <td>Americas</td>\n",
       "      <td>3048.302900</td>\n",
       "      <td>3421.523218</td>\n",
       "      <td>3776.803627</td>\n",
       "      <td>4358.595393</td>\n",
       "      <td>4520.246008</td>\n",
       "      <td>5138.922374</td>\n",
       "      <td>4098.344175</td>\n",
       "      <td>4140.442097</td>\n",
       "      <td>4444.231700</td>\n",
       "      <td>5154.825496</td>\n",
       "      <td>5351.568666</td>\n",
       "      <td>5728.353514</td>\n",
       "    </tr>\n",
       "    <tr>\n",
       "      <th>Guatemala</th>\n",
       "      <td>Americas</td>\n",
       "      <td>2428.237769</td>\n",
       "      <td>2617.155967</td>\n",
       "      <td>2750.364446</td>\n",
       "      <td>3242.531147</td>\n",
       "      <td>4031.408271</td>\n",
       "      <td>4879.992748</td>\n",
       "      <td>4820.494790</td>\n",
       "      <td>4246.485974</td>\n",
       "      <td>4439.450840</td>\n",
       "      <td>4684.313807</td>\n",
       "      <td>4858.347495</td>\n",
       "      <td>5186.050003</td>\n",
       "    </tr>\n",
       "    <tr>\n",
       "      <th>Haiti</th>\n",
       "      <td>Americas</td>\n",
       "      <td>1840.366939</td>\n",
       "      <td>1726.887882</td>\n",
       "      <td>1796.589032</td>\n",
       "      <td>1452.057666</td>\n",
       "      <td>1654.456946</td>\n",
       "      <td>1874.298931</td>\n",
       "      <td>2011.159549</td>\n",
       "      <td>1823.015995</td>\n",
       "      <td>1456.309517</td>\n",
       "      <td>1341.726931</td>\n",
       "      <td>1270.364932</td>\n",
       "      <td>1201.637154</td>\n",
       "    </tr>\n",
       "    <tr>\n",
       "      <th>Honduras</th>\n",
       "      <td>Americas</td>\n",
       "      <td>2194.926204</td>\n",
       "      <td>2220.487682</td>\n",
       "      <td>2291.156835</td>\n",
       "      <td>2538.269358</td>\n",
       "      <td>2529.842345</td>\n",
       "      <td>3203.208066</td>\n",
       "      <td>3121.760794</td>\n",
       "      <td>3023.096699</td>\n",
       "      <td>3081.694603</td>\n",
       "      <td>3160.454906</td>\n",
       "      <td>3099.728660</td>\n",
       "      <td>3548.330846</td>\n",
       "    </tr>\n",
       "    <tr>\n",
       "      <th>Jamaica</th>\n",
       "      <td>Americas</td>\n",
       "      <td>2898.530881</td>\n",
       "      <td>4756.525781</td>\n",
       "      <td>5246.107524</td>\n",
       "      <td>6124.703451</td>\n",
       "      <td>7433.889293</td>\n",
       "      <td>6650.195573</td>\n",
       "      <td>6068.051350</td>\n",
       "      <td>6351.237495</td>\n",
       "      <td>7404.923685</td>\n",
       "      <td>7121.924704</td>\n",
       "      <td>6994.774861</td>\n",
       "      <td>7320.880262</td>\n",
       "    </tr>\n",
       "    <tr>\n",
       "      <th>Mexico</th>\n",
       "      <td>Americas</td>\n",
       "      <td>3478.125529</td>\n",
       "      <td>4131.546641</td>\n",
       "      <td>4581.609385</td>\n",
       "      <td>5754.733883</td>\n",
       "      <td>6809.406690</td>\n",
       "      <td>7674.929108</td>\n",
       "      <td>9611.147541</td>\n",
       "      <td>8688.156003</td>\n",
       "      <td>9472.384295</td>\n",
       "      <td>9767.297530</td>\n",
       "      <td>10742.440530</td>\n",
       "      <td>11977.574960</td>\n",
       "    </tr>\n",
       "    <tr>\n",
       "      <th>Nicaragua</th>\n",
       "      <td>Americas</td>\n",
       "      <td>3112.363948</td>\n",
       "      <td>3457.415947</td>\n",
       "      <td>3634.364406</td>\n",
       "      <td>4643.393534</td>\n",
       "      <td>4688.593267</td>\n",
       "      <td>5486.371089</td>\n",
       "      <td>3470.338156</td>\n",
       "      <td>2955.984375</td>\n",
       "      <td>2170.151724</td>\n",
       "      <td>2253.023004</td>\n",
       "      <td>2474.548819</td>\n",
       "      <td>2749.320965</td>\n",
       "    </tr>\n",
       "    <tr>\n",
       "      <th>Panama</th>\n",
       "      <td>Americas</td>\n",
       "      <td>2480.380334</td>\n",
       "      <td>2961.800905</td>\n",
       "      <td>3536.540301</td>\n",
       "      <td>4421.009084</td>\n",
       "      <td>5364.249663</td>\n",
       "      <td>5351.912144</td>\n",
       "      <td>7009.601598</td>\n",
       "      <td>7034.779161</td>\n",
       "      <td>6618.743050</td>\n",
       "      <td>7113.692252</td>\n",
       "      <td>7356.031934</td>\n",
       "      <td>9809.185636</td>\n",
       "    </tr>\n",
       "    <tr>\n",
       "      <th>Paraguay</th>\n",
       "      <td>Americas</td>\n",
       "      <td>1952.308701</td>\n",
       "      <td>2046.154706</td>\n",
       "      <td>2148.027146</td>\n",
       "      <td>2299.376311</td>\n",
       "      <td>2523.337977</td>\n",
       "      <td>3248.373311</td>\n",
       "      <td>4258.503604</td>\n",
       "      <td>3998.875695</td>\n",
       "      <td>4196.411078</td>\n",
       "      <td>4247.400261</td>\n",
       "      <td>3783.674243</td>\n",
       "      <td>4172.838464</td>\n",
       "    </tr>\n",
       "    <tr>\n",
       "      <th>Peru</th>\n",
       "      <td>Americas</td>\n",
       "      <td>3758.523437</td>\n",
       "      <td>4245.256698</td>\n",
       "      <td>4957.037982</td>\n",
       "      <td>5788.093330</td>\n",
       "      <td>5937.827283</td>\n",
       "      <td>6281.290855</td>\n",
       "      <td>6434.501797</td>\n",
       "      <td>6360.943444</td>\n",
       "      <td>4446.380924</td>\n",
       "      <td>5838.347657</td>\n",
       "      <td>5909.020073</td>\n",
       "      <td>7408.905561</td>\n",
       "    </tr>\n",
       "    <tr>\n",
       "      <th>Puerto Rico</th>\n",
       "      <td>Americas</td>\n",
       "      <td>3081.959785</td>\n",
       "      <td>3907.156189</td>\n",
       "      <td>5108.344630</td>\n",
       "      <td>6929.277714</td>\n",
       "      <td>9123.041742</td>\n",
       "      <td>9770.524921</td>\n",
       "      <td>10330.989150</td>\n",
       "      <td>12281.341910</td>\n",
       "      <td>14641.587110</td>\n",
       "      <td>16999.433300</td>\n",
       "      <td>18855.606180</td>\n",
       "      <td>19328.709010</td>\n",
       "    </tr>\n",
       "    <tr>\n",
       "      <th>Trinidad and Tobago</th>\n",
       "      <td>Americas</td>\n",
       "      <td>3023.271928</td>\n",
       "      <td>4100.393400</td>\n",
       "      <td>4997.523971</td>\n",
       "      <td>5621.368472</td>\n",
       "      <td>6619.551419</td>\n",
       "      <td>7899.554209</td>\n",
       "      <td>9119.528607</td>\n",
       "      <td>7388.597823</td>\n",
       "      <td>7370.990932</td>\n",
       "      <td>8792.573126</td>\n",
       "      <td>11460.600230</td>\n",
       "      <td>18008.509240</td>\n",
       "    </tr>\n",
       "    <tr>\n",
       "      <th>United States</th>\n",
       "      <td>Americas</td>\n",
       "      <td>13990.482080</td>\n",
       "      <td>14847.127120</td>\n",
       "      <td>16173.145860</td>\n",
       "      <td>19530.365570</td>\n",
       "      <td>21806.035940</td>\n",
       "      <td>24072.632130</td>\n",
       "      <td>25009.559140</td>\n",
       "      <td>29884.350410</td>\n",
       "      <td>32003.932240</td>\n",
       "      <td>35767.433030</td>\n",
       "      <td>39097.099550</td>\n",
       "      <td>42951.653090</td>\n",
       "    </tr>\n",
       "    <tr>\n",
       "      <th>Uruguay</th>\n",
       "      <td>Americas</td>\n",
       "      <td>5716.766744</td>\n",
       "      <td>6150.772969</td>\n",
       "      <td>5603.357717</td>\n",
       "      <td>5444.619620</td>\n",
       "      <td>5703.408898</td>\n",
       "      <td>6504.339663</td>\n",
       "      <td>6920.223051</td>\n",
       "      <td>7452.398969</td>\n",
       "      <td>8137.004775</td>\n",
       "      <td>9230.240708</td>\n",
       "      <td>7727.002004</td>\n",
       "      <td>10611.462990</td>\n",
       "    </tr>\n",
       "    <tr>\n",
       "      <th>Venezuela</th>\n",
       "      <td>Americas</td>\n",
       "      <td>7689.799761</td>\n",
       "      <td>9802.466526</td>\n",
       "      <td>8422.974165</td>\n",
       "      <td>9541.474188</td>\n",
       "      <td>10505.259660</td>\n",
       "      <td>13143.950950</td>\n",
       "      <td>11152.410110</td>\n",
       "      <td>9883.584648</td>\n",
       "      <td>10733.926310</td>\n",
       "      <td>10165.495180</td>\n",
       "      <td>8605.047831</td>\n",
       "      <td>11415.805690</td>\n",
       "    </tr>\n",
       "  </tbody>\n",
       "</table>\n",
       "</div>"
      ],
      "text/plain": [
       "                    continent  gdpPercap_1952  gdpPercap_1957  gdpPercap_1962  \\\n",
       "country                                                                         \n",
       "Argentina            Americas     5911.315053     6856.856212     7133.166023   \n",
       "Bolivia              Americas     2677.326347     2127.686326     2180.972546   \n",
       "Brazil               Americas     2108.944355     2487.365989     3336.585802   \n",
       "Canada               Americas    11367.161120    12489.950060    13462.485550   \n",
       "Chile                Americas     3939.978789     4315.622723     4519.094331   \n",
       "Colombia             Americas     2144.115096     2323.805581     2492.351109   \n",
       "Costa Rica           Americas     2627.009471     2990.010802     3460.937025   \n",
       "Cuba                 Americas     5586.538780     6092.174359     5180.755910   \n",
       "Dominican Republic   Americas     1397.717137     1544.402995     1662.137359   \n",
       "Ecuador              Americas     3522.110717     3780.546651     4086.114078   \n",
       "El Salvador          Americas     3048.302900     3421.523218     3776.803627   \n",
       "Guatemala            Americas     2428.237769     2617.155967     2750.364446   \n",
       "Haiti                Americas     1840.366939     1726.887882     1796.589032   \n",
       "Honduras             Americas     2194.926204     2220.487682     2291.156835   \n",
       "Jamaica              Americas     2898.530881     4756.525781     5246.107524   \n",
       "Mexico               Americas     3478.125529     4131.546641     4581.609385   \n",
       "Nicaragua            Americas     3112.363948     3457.415947     3634.364406   \n",
       "Panama               Americas     2480.380334     2961.800905     3536.540301   \n",
       "Paraguay             Americas     1952.308701     2046.154706     2148.027146   \n",
       "Peru                 Americas     3758.523437     4245.256698     4957.037982   \n",
       "Puerto Rico          Americas     3081.959785     3907.156189     5108.344630   \n",
       "Trinidad and Tobago  Americas     3023.271928     4100.393400     4997.523971   \n",
       "United States        Americas    13990.482080    14847.127120    16173.145860   \n",
       "Uruguay              Americas     5716.766744     6150.772969     5603.357717   \n",
       "Venezuela            Americas     7689.799761     9802.466526     8422.974165   \n",
       "\n",
       "                     gdpPercap_1967  gdpPercap_1972  gdpPercap_1977  \\\n",
       "country                                                               \n",
       "Argentina               8052.953021     9443.038526    10079.026740   \n",
       "Bolivia                 2586.886053     2980.331339     3548.097832   \n",
       "Brazil                  3429.864357     4985.711467     6660.118654   \n",
       "Canada                 16076.588030    18970.570860    22090.883060   \n",
       "Chile                   5106.654313     5494.024437     4756.763836   \n",
       "Colombia                2678.729839     3264.660041     3815.807870   \n",
       "Costa Rica              4161.727834     5118.146939     5926.876967   \n",
       "Cuba                    5690.268015     5305.445256     6380.494966   \n",
       "Dominican Republic      1653.723003     2189.874499     2681.988900   \n",
       "Ecuador                 4579.074215     5280.994710     6679.623260   \n",
       "El Salvador             4358.595393     4520.246008     5138.922374   \n",
       "Guatemala               3242.531147     4031.408271     4879.992748   \n",
       "Haiti                   1452.057666     1654.456946     1874.298931   \n",
       "Honduras                2538.269358     2529.842345     3203.208066   \n",
       "Jamaica                 6124.703451     7433.889293     6650.195573   \n",
       "Mexico                  5754.733883     6809.406690     7674.929108   \n",
       "Nicaragua               4643.393534     4688.593267     5486.371089   \n",
       "Panama                  4421.009084     5364.249663     5351.912144   \n",
       "Paraguay                2299.376311     2523.337977     3248.373311   \n",
       "Peru                    5788.093330     5937.827283     6281.290855   \n",
       "Puerto Rico             6929.277714     9123.041742     9770.524921   \n",
       "Trinidad and Tobago     5621.368472     6619.551419     7899.554209   \n",
       "United States          19530.365570    21806.035940    24072.632130   \n",
       "Uruguay                 5444.619620     5703.408898     6504.339663   \n",
       "Venezuela               9541.474188    10505.259660    13143.950950   \n",
       "\n",
       "                     gdpPercap_1982  gdpPercap_1987  gdpPercap_1992  \\\n",
       "country                                                               \n",
       "Argentina               8997.897412     9139.671389     9308.418710   \n",
       "Bolivia                 3156.510452     2753.691490     2961.699694   \n",
       "Brazil                  7030.835878     7807.095818     6950.283021   \n",
       "Canada                 22898.792140    26626.515030    26342.884260   \n",
       "Chile                   5095.665738     5547.063754     7596.125964   \n",
       "Colombia                4397.575659     4903.219100     5444.648617   \n",
       "Costa Rica              5262.734751     5629.915318     6160.416317   \n",
       "Cuba                    7316.918107     7532.924763     5592.843963   \n",
       "Dominican Republic      2861.092386     2899.842175     3044.214214   \n",
       "Ecuador                 7213.791267     6481.776993     7103.702595   \n",
       "El Salvador             4098.344175     4140.442097     4444.231700   \n",
       "Guatemala               4820.494790     4246.485974     4439.450840   \n",
       "Haiti                   2011.159549     1823.015995     1456.309517   \n",
       "Honduras                3121.760794     3023.096699     3081.694603   \n",
       "Jamaica                 6068.051350     6351.237495     7404.923685   \n",
       "Mexico                  9611.147541     8688.156003     9472.384295   \n",
       "Nicaragua               3470.338156     2955.984375     2170.151724   \n",
       "Panama                  7009.601598     7034.779161     6618.743050   \n",
       "Paraguay                4258.503604     3998.875695     4196.411078   \n",
       "Peru                    6434.501797     6360.943444     4446.380924   \n",
       "Puerto Rico            10330.989150    12281.341910    14641.587110   \n",
       "Trinidad and Tobago     9119.528607     7388.597823     7370.990932   \n",
       "United States          25009.559140    29884.350410    32003.932240   \n",
       "Uruguay                 6920.223051     7452.398969     8137.004775   \n",
       "Venezuela              11152.410110     9883.584648    10733.926310   \n",
       "\n",
       "                     gdpPercap_1997  gdpPercap_2002  gdpPercap_2007  \n",
       "country                                                              \n",
       "Argentina              10967.281950     8797.640716    12779.379640  \n",
       "Bolivia                 3326.143191     3413.262690     3822.137084  \n",
       "Brazil                  7957.980824     8131.212843     9065.800825  \n",
       "Canada                 28954.925890    33328.965070    36319.235010  \n",
       "Chile                  10118.053180    10778.783850    13171.638850  \n",
       "Colombia                6117.361746     5755.259962     7006.580419  \n",
       "Costa Rica              6677.045314     7723.447195     9645.061420  \n",
       "Cuba                    5431.990415     6340.646683     8948.102923  \n",
       "Dominican Republic      3614.101285     4563.808154     6025.374752  \n",
       "Ecuador                 7429.455877     5773.044512     6873.262326  \n",
       "El Salvador             5154.825496     5351.568666     5728.353514  \n",
       "Guatemala               4684.313807     4858.347495     5186.050003  \n",
       "Haiti                   1341.726931     1270.364932     1201.637154  \n",
       "Honduras                3160.454906     3099.728660     3548.330846  \n",
       "Jamaica                 7121.924704     6994.774861     7320.880262  \n",
       "Mexico                  9767.297530    10742.440530    11977.574960  \n",
       "Nicaragua               2253.023004     2474.548819     2749.320965  \n",
       "Panama                  7113.692252     7356.031934     9809.185636  \n",
       "Paraguay                4247.400261     3783.674243     4172.838464  \n",
       "Peru                    5838.347657     5909.020073     7408.905561  \n",
       "Puerto Rico            16999.433300    18855.606180    19328.709010  \n",
       "Trinidad and Tobago     8792.573126    11460.600230    18008.509240  \n",
       "United States          35767.433030    39097.099550    42951.653090  \n",
       "Uruguay                 9230.240708     7727.002004    10611.462990  \n",
       "Venezuela              10165.495180     8605.047831    11415.805690  "
      ]
     },
     "execution_count": 68,
     "metadata": {},
     "output_type": "execute_result"
    }
   ],
   "source": [
    "data_reader"
   ]
  },
  {
   "cell_type": "code",
   "execution_count": 54,
   "id": "b90bce0d-a7fc-4123-9a35-3d05e5e6f25d",
   "metadata": {},
   "outputs": [],
   "source": [
    "#data_reader.head(2)"
   ]
  },
  {
   "cell_type": "code",
   "execution_count": 55,
   "id": "46817f05-4964-403b-9040-4ed71a8f3fe1",
   "metadata": {},
   "outputs": [
    {
     "data": {
      "text/plain": [
       "3460.937025"
      ]
     },
     "execution_count": 55,
     "metadata": {},
     "output_type": "execute_result"
    }
   ],
   "source": [
    "data_reader.iloc[6,3]"
   ]
  },
  {
   "cell_type": "code",
   "execution_count": 56,
   "id": "6bb02462-6805-43f2-ae9c-5dd0c160eb2f",
   "metadata": {},
   "outputs": [
    {
     "data": {
      "text/plain": [
       "2990.010802"
      ]
     },
     "execution_count": 56,
     "metadata": {},
     "output_type": "execute_result"
    }
   ],
   "source": [
    "data_reader.loc[\"Costa Rica\",\"gdpPercap_1957\"]"
   ]
  },
  {
   "cell_type": "code",
   "execution_count": 69,
   "id": "12322c75-6109-46c2-b353-c7fae496b501",
   "metadata": {},
   "outputs": [
    {
     "data": {
      "text/plain": [
       "continent            Americas\n",
       "gdpPercap_1952    2627.009471\n",
       "gdpPercap_1957    2990.010802\n",
       "gdpPercap_1962    3460.937025\n",
       "gdpPercap_1967    4161.727834\n",
       "gdpPercap_1972    5118.146939\n",
       "gdpPercap_1977    5926.876967\n",
       "gdpPercap_1982    5262.734751\n",
       "gdpPercap_1987    5629.915318\n",
       "gdpPercap_1992    6160.416317\n",
       "gdpPercap_1997    6677.045314\n",
       "gdpPercap_2002    7723.447195\n",
       "gdpPercap_2007     9645.06142\n",
       "Name: Costa Rica, dtype: object"
      ]
     },
     "execution_count": 69,
     "metadata": {},
     "output_type": "execute_result"
    }
   ],
   "source": [
    "data_reader.loc[\"Costa Rica\",:]"
   ]
  },
  {
   "cell_type": "code",
   "execution_count": 71,
   "id": "f5dc022b-0c5b-47d3-b348-9cf1f9d83e1b",
   "metadata": {},
   "outputs": [
    {
     "data": {
      "text/plain": [
       "country\n",
       "Argentina               6856.856212\n",
       "Bolivia                 2127.686326\n",
       "Brazil                  2487.365989\n",
       "Canada                 12489.950060\n",
       "Chile                   4315.622723\n",
       "Colombia                2323.805581\n",
       "Costa Rica              2990.010802\n",
       "Cuba                    6092.174359\n",
       "Dominican Republic      1544.402995\n",
       "Ecuador                 3780.546651\n",
       "El Salvador             3421.523218\n",
       "Guatemala               2617.155967\n",
       "Haiti                   1726.887882\n",
       "Honduras                2220.487682\n",
       "Jamaica                 4756.525781\n",
       "Mexico                  4131.546641\n",
       "Nicaragua               3457.415947\n",
       "Panama                  2961.800905\n",
       "Paraguay                2046.154706\n",
       "Peru                    4245.256698\n",
       "Puerto Rico             3907.156189\n",
       "Trinidad and Tobago     4100.393400\n",
       "United States          14847.127120\n",
       "Uruguay                 6150.772969\n",
       "Venezuela               9802.466526\n",
       "Name: gdpPercap_1957, dtype: float64"
      ]
     },
     "execution_count": 71,
     "metadata": {},
     "output_type": "execute_result"
    }
   ],
   "source": [
    "data_reader.loc[:,\"gdpPercap_1957\"]"
   ]
  },
  {
   "cell_type": "code",
   "execution_count": 74,
   "id": "c98c7c93-bd16-493f-840d-e716c19d97c7",
   "metadata": {},
   "outputs": [
    {
     "data": {
      "text/plain": [
       "country\n",
       "Costa Rica            2990.010802\n",
       "Cuba                  6092.174359\n",
       "Dominican Republic    1544.402995\n",
       "Ecuador               3780.546651\n",
       "El Salvador           3421.523218\n",
       "Name: gdpPercap_1957, dtype: float64"
      ]
     },
     "execution_count": 74,
     "metadata": {},
     "output_type": "execute_result"
    }
   ],
   "source": [
    "data_reader.loc[\"Costa Rica\":\"El Salvador\",\"gdpPercap_1957\"]"
   ]
  },
  {
   "cell_type": "code",
   "execution_count": 75,
   "id": "b5337512-3b1c-48f0-848e-722687bcae2f",
   "metadata": {},
   "outputs": [
    {
     "data": {
      "text/html": [
       "<div>\n",
       "<style scoped>\n",
       "    .dataframe tbody tr th:only-of-type {\n",
       "        vertical-align: middle;\n",
       "    }\n",
       "\n",
       "    .dataframe tbody tr th {\n",
       "        vertical-align: top;\n",
       "    }\n",
       "\n",
       "    .dataframe thead th {\n",
       "        text-align: right;\n",
       "    }\n",
       "</style>\n",
       "<table border=\"1\" class=\"dataframe\">\n",
       "  <thead>\n",
       "    <tr style=\"text-align: right;\">\n",
       "      <th></th>\n",
       "      <th>gdpPercap_1957</th>\n",
       "      <th>gdpPercap_1962</th>\n",
       "      <th>gdpPercap_1967</th>\n",
       "      <th>gdpPercap_1972</th>\n",
       "      <th>gdpPercap_1977</th>\n",
       "      <th>gdpPercap_1982</th>\n",
       "    </tr>\n",
       "    <tr>\n",
       "      <th>country</th>\n",
       "      <th></th>\n",
       "      <th></th>\n",
       "      <th></th>\n",
       "      <th></th>\n",
       "      <th></th>\n",
       "      <th></th>\n",
       "    </tr>\n",
       "  </thead>\n",
       "  <tbody>\n",
       "    <tr>\n",
       "      <th>Costa Rica</th>\n",
       "      <td>2990.010802</td>\n",
       "      <td>3460.937025</td>\n",
       "      <td>4161.727834</td>\n",
       "      <td>5118.146939</td>\n",
       "      <td>5926.876967</td>\n",
       "      <td>5262.734751</td>\n",
       "    </tr>\n",
       "    <tr>\n",
       "      <th>Cuba</th>\n",
       "      <td>6092.174359</td>\n",
       "      <td>5180.755910</td>\n",
       "      <td>5690.268015</td>\n",
       "      <td>5305.445256</td>\n",
       "      <td>6380.494966</td>\n",
       "      <td>7316.918107</td>\n",
       "    </tr>\n",
       "    <tr>\n",
       "      <th>Dominican Republic</th>\n",
       "      <td>1544.402995</td>\n",
       "      <td>1662.137359</td>\n",
       "      <td>1653.723003</td>\n",
       "      <td>2189.874499</td>\n",
       "      <td>2681.988900</td>\n",
       "      <td>2861.092386</td>\n",
       "    </tr>\n",
       "    <tr>\n",
       "      <th>Ecuador</th>\n",
       "      <td>3780.546651</td>\n",
       "      <td>4086.114078</td>\n",
       "      <td>4579.074215</td>\n",
       "      <td>5280.994710</td>\n",
       "      <td>6679.623260</td>\n",
       "      <td>7213.791267</td>\n",
       "    </tr>\n",
       "    <tr>\n",
       "      <th>El Salvador</th>\n",
       "      <td>3421.523218</td>\n",
       "      <td>3776.803627</td>\n",
       "      <td>4358.595393</td>\n",
       "      <td>4520.246008</td>\n",
       "      <td>5138.922374</td>\n",
       "      <td>4098.344175</td>\n",
       "    </tr>\n",
       "  </tbody>\n",
       "</table>\n",
       "</div>"
      ],
      "text/plain": [
       "                    gdpPercap_1957  gdpPercap_1962  gdpPercap_1967  \\\n",
       "country                                                              \n",
       "Costa Rica             2990.010802     3460.937025     4161.727834   \n",
       "Cuba                   6092.174359     5180.755910     5690.268015   \n",
       "Dominican Republic     1544.402995     1662.137359     1653.723003   \n",
       "Ecuador                3780.546651     4086.114078     4579.074215   \n",
       "El Salvador            3421.523218     3776.803627     4358.595393   \n",
       "\n",
       "                    gdpPercap_1972  gdpPercap_1977  gdpPercap_1982  \n",
       "country                                                             \n",
       "Costa Rica             5118.146939     5926.876967     5262.734751  \n",
       "Cuba                   5305.445256     6380.494966     7316.918107  \n",
       "Dominican Republic     2189.874499     2681.988900     2861.092386  \n",
       "Ecuador                5280.994710     6679.623260     7213.791267  \n",
       "El Salvador            4520.246008     5138.922374     4098.344175  "
      ]
     },
     "execution_count": 75,
     "metadata": {},
     "output_type": "execute_result"
    }
   ],
   "source": [
    "data_reader.loc[\"Costa Rica\":\"El Salvador\",\"gdpPercap_1957\":\"gdpPercap_1982\"]"
   ]
  },
  {
   "cell_type": "code",
   "execution_count": 76,
   "id": "5646c0d9-0528-4ea3-b878-083e6d2d1548",
   "metadata": {},
   "outputs": [
    {
     "data": {
      "text/html": [
       "<div>\n",
       "<style scoped>\n",
       "    .dataframe tbody tr th:only-of-type {\n",
       "        vertical-align: middle;\n",
       "    }\n",
       "\n",
       "    .dataframe tbody tr th {\n",
       "        vertical-align: top;\n",
       "    }\n",
       "\n",
       "    .dataframe thead th {\n",
       "        text-align: right;\n",
       "    }\n",
       "</style>\n",
       "<table border=\"1\" class=\"dataframe\">\n",
       "  <thead>\n",
       "    <tr style=\"text-align: right;\">\n",
       "      <th></th>\n",
       "      <th>continent</th>\n",
       "      <th>gdpPercap_1952</th>\n",
       "      <th>gdpPercap_1957</th>\n",
       "      <th>gdpPercap_1962</th>\n",
       "      <th>gdpPercap_1967</th>\n",
       "      <th>gdpPercap_1972</th>\n",
       "      <th>gdpPercap_1977</th>\n",
       "      <th>gdpPercap_1982</th>\n",
       "      <th>gdpPercap_1987</th>\n",
       "      <th>gdpPercap_1992</th>\n",
       "      <th>gdpPercap_1997</th>\n",
       "      <th>gdpPercap_2002</th>\n",
       "      <th>gdpPercap_2007</th>\n",
       "    </tr>\n",
       "    <tr>\n",
       "      <th>country</th>\n",
       "      <th></th>\n",
       "      <th></th>\n",
       "      <th></th>\n",
       "      <th></th>\n",
       "      <th></th>\n",
       "      <th></th>\n",
       "      <th></th>\n",
       "      <th></th>\n",
       "      <th></th>\n",
       "      <th></th>\n",
       "      <th></th>\n",
       "      <th></th>\n",
       "      <th></th>\n",
       "    </tr>\n",
       "  </thead>\n",
       "  <tbody>\n",
       "    <tr>\n",
       "      <th>Costa Rica</th>\n",
       "      <td>Americas</td>\n",
       "      <td>2627.009471</td>\n",
       "      <td>2990.010802</td>\n",
       "      <td>3460.937025</td>\n",
       "      <td>4161.727834</td>\n",
       "      <td>5118.146939</td>\n",
       "      <td>5926.876967</td>\n",
       "      <td>5262.734751</td>\n",
       "      <td>5629.915318</td>\n",
       "      <td>6160.416317</td>\n",
       "      <td>6677.045314</td>\n",
       "      <td>7723.447195</td>\n",
       "      <td>9645.061420</td>\n",
       "    </tr>\n",
       "    <tr>\n",
       "      <th>Cuba</th>\n",
       "      <td>Americas</td>\n",
       "      <td>5586.538780</td>\n",
       "      <td>6092.174359</td>\n",
       "      <td>5180.755910</td>\n",
       "      <td>5690.268015</td>\n",
       "      <td>5305.445256</td>\n",
       "      <td>6380.494966</td>\n",
       "      <td>7316.918107</td>\n",
       "      <td>7532.924763</td>\n",
       "      <td>5592.843963</td>\n",
       "      <td>5431.990415</td>\n",
       "      <td>6340.646683</td>\n",
       "      <td>8948.102923</td>\n",
       "    </tr>\n",
       "    <tr>\n",
       "      <th>Dominican Republic</th>\n",
       "      <td>Americas</td>\n",
       "      <td>1397.717137</td>\n",
       "      <td>1544.402995</td>\n",
       "      <td>1662.137359</td>\n",
       "      <td>1653.723003</td>\n",
       "      <td>2189.874499</td>\n",
       "      <td>2681.988900</td>\n",
       "      <td>2861.092386</td>\n",
       "      <td>2899.842175</td>\n",
       "      <td>3044.214214</td>\n",
       "      <td>3614.101285</td>\n",
       "      <td>4563.808154</td>\n",
       "      <td>6025.374752</td>\n",
       "    </tr>\n",
       "    <tr>\n",
       "      <th>Ecuador</th>\n",
       "      <td>Americas</td>\n",
       "      <td>3522.110717</td>\n",
       "      <td>3780.546651</td>\n",
       "      <td>4086.114078</td>\n",
       "      <td>4579.074215</td>\n",
       "      <td>5280.994710</td>\n",
       "      <td>6679.623260</td>\n",
       "      <td>7213.791267</td>\n",
       "      <td>6481.776993</td>\n",
       "      <td>7103.702595</td>\n",
       "      <td>7429.455877</td>\n",
       "      <td>5773.044512</td>\n",
       "      <td>6873.262326</td>\n",
       "    </tr>\n",
       "    <tr>\n",
       "      <th>El Salvador</th>\n",
       "      <td>Americas</td>\n",
       "      <td>3048.302900</td>\n",
       "      <td>3421.523218</td>\n",
       "      <td>3776.803627</td>\n",
       "      <td>4358.595393</td>\n",
       "      <td>4520.246008</td>\n",
       "      <td>5138.922374</td>\n",
       "      <td>4098.344175</td>\n",
       "      <td>4140.442097</td>\n",
       "      <td>4444.231700</td>\n",
       "      <td>5154.825496</td>\n",
       "      <td>5351.568666</td>\n",
       "      <td>5728.353514</td>\n",
       "    </tr>\n",
       "  </tbody>\n",
       "</table>\n",
       "</div>"
      ],
      "text/plain": [
       "                   continent  gdpPercap_1952  gdpPercap_1957  gdpPercap_1962  \\\n",
       "country                                                                        \n",
       "Costa Rica          Americas     2627.009471     2990.010802     3460.937025   \n",
       "Cuba                Americas     5586.538780     6092.174359     5180.755910   \n",
       "Dominican Republic  Americas     1397.717137     1544.402995     1662.137359   \n",
       "Ecuador             Americas     3522.110717     3780.546651     4086.114078   \n",
       "El Salvador         Americas     3048.302900     3421.523218     3776.803627   \n",
       "\n",
       "                    gdpPercap_1967  gdpPercap_1972  gdpPercap_1977  \\\n",
       "country                                                              \n",
       "Costa Rica             4161.727834     5118.146939     5926.876967   \n",
       "Cuba                   5690.268015     5305.445256     6380.494966   \n",
       "Dominican Republic     1653.723003     2189.874499     2681.988900   \n",
       "Ecuador                4579.074215     5280.994710     6679.623260   \n",
       "El Salvador            4358.595393     4520.246008     5138.922374   \n",
       "\n",
       "                    gdpPercap_1982  gdpPercap_1987  gdpPercap_1992  \\\n",
       "country                                                              \n",
       "Costa Rica             5262.734751     5629.915318     6160.416317   \n",
       "Cuba                   7316.918107     7532.924763     5592.843963   \n",
       "Dominican Republic     2861.092386     2899.842175     3044.214214   \n",
       "Ecuador                7213.791267     6481.776993     7103.702595   \n",
       "El Salvador            4098.344175     4140.442097     4444.231700   \n",
       "\n",
       "                    gdpPercap_1997  gdpPercap_2002  gdpPercap_2007  \n",
       "country                                                             \n",
       "Costa Rica             6677.045314     7723.447195     9645.061420  \n",
       "Cuba                   5431.990415     6340.646683     8948.102923  \n",
       "Dominican Republic     3614.101285     4563.808154     6025.374752  \n",
       "Ecuador                7429.455877     5773.044512     6873.262326  \n",
       "El Salvador            5154.825496     5351.568666     5728.353514  "
      ]
     },
     "execution_count": 76,
     "metadata": {},
     "output_type": "execute_result"
    }
   ],
   "source": [
    "data_reader.loc[\"Costa Rica\":\"El Salvador\",\"continent\":]"
   ]
  },
  {
   "cell_type": "code",
   "execution_count": 81,
   "id": "00807620-966d-4948-9e0f-3b010ce24fb1",
   "metadata": {},
   "outputs": [
    {
     "name": "stdout",
     "output_type": "stream",
     "text": [
      "<class 'pandas.core.frame.DataFrame'>\n",
      "Index: 5 entries, Costa Rica to El Salvador\n",
      "Data columns (total 13 columns):\n",
      " #   Column          Non-Null Count  Dtype  \n",
      "---  ------          --------------  -----  \n",
      " 0   continent       5 non-null      object \n",
      " 1   gdpPercap_1952  5 non-null      float64\n",
      " 2   gdpPercap_1957  5 non-null      float64\n",
      " 3   gdpPercap_1962  5 non-null      float64\n",
      " 4   gdpPercap_1967  5 non-null      float64\n",
      " 5   gdpPercap_1972  5 non-null      float64\n",
      " 6   gdpPercap_1977  5 non-null      float64\n",
      " 7   gdpPercap_1982  5 non-null      float64\n",
      " 8   gdpPercap_1987  5 non-null      float64\n",
      " 9   gdpPercap_1992  5 non-null      float64\n",
      " 10  gdpPercap_1997  5 non-null      float64\n",
      " 11  gdpPercap_2002  5 non-null      float64\n",
      " 12  gdpPercap_2007  5 non-null      float64\n",
      "dtypes: float64(12), object(1)\n",
      "memory usage: 560.0+ bytes\n"
     ]
    }
   ],
   "source": [
    "data_reader.loc[\"Costa Rica\":\"El Salvador\",\"continent\":].info()"
   ]
  },
  {
   "cell_type": "code",
   "execution_count": 80,
   "id": "7d742f5d-e47d-4b0b-8b76-dcbcacdeed91",
   "metadata": {},
   "outputs": [
    {
     "data": {
      "text/html": [
       "<div>\n",
       "<style scoped>\n",
       "    .dataframe tbody tr th:only-of-type {\n",
       "        vertical-align: middle;\n",
       "    }\n",
       "\n",
       "    .dataframe tbody tr th {\n",
       "        vertical-align: top;\n",
       "    }\n",
       "\n",
       "    .dataframe thead th {\n",
       "        text-align: right;\n",
       "    }\n",
       "</style>\n",
       "<table border=\"1\" class=\"dataframe\">\n",
       "  <thead>\n",
       "    <tr style=\"text-align: right;\">\n",
       "      <th></th>\n",
       "      <th>gdpPercap_1952</th>\n",
       "      <th>gdpPercap_1957</th>\n",
       "      <th>gdpPercap_1962</th>\n",
       "      <th>gdpPercap_1967</th>\n",
       "      <th>gdpPercap_1972</th>\n",
       "      <th>gdpPercap_1977</th>\n",
       "      <th>gdpPercap_1982</th>\n",
       "      <th>gdpPercap_1987</th>\n",
       "      <th>gdpPercap_1992</th>\n",
       "      <th>gdpPercap_1997</th>\n",
       "      <th>gdpPercap_2002</th>\n",
       "      <th>gdpPercap_2007</th>\n",
       "    </tr>\n",
       "  </thead>\n",
       "  <tbody>\n",
       "    <tr>\n",
       "      <th>count</th>\n",
       "      <td>25.000000</td>\n",
       "      <td>25.000000</td>\n",
       "      <td>25.000000</td>\n",
       "      <td>25.000000</td>\n",
       "      <td>25.000000</td>\n",
       "      <td>25.000000</td>\n",
       "      <td>25.000000</td>\n",
       "      <td>25.000000</td>\n",
       "      <td>25.000000</td>\n",
       "      <td>25.000000</td>\n",
       "      <td>25.000000</td>\n",
       "      <td>25.000000</td>\n",
       "    </tr>\n",
       "    <tr>\n",
       "      <th>mean</th>\n",
       "      <td>4079.062552</td>\n",
       "      <td>4616.043733</td>\n",
       "      <td>4901.541870</td>\n",
       "      <td>5668.253496</td>\n",
       "      <td>6491.334139</td>\n",
       "      <td>7352.007126</td>\n",
       "      <td>7506.737088</td>\n",
       "      <td>7793.400261</td>\n",
       "      <td>8044.934406</td>\n",
       "      <td>8889.300863</td>\n",
       "      <td>9287.677107</td>\n",
       "      <td>11003.031625</td>\n",
       "    </tr>\n",
       "    <tr>\n",
       "      <th>std</th>\n",
       "      <td>3001.727522</td>\n",
       "      <td>3312.381083</td>\n",
       "      <td>3421.740569</td>\n",
       "      <td>4160.885560</td>\n",
       "      <td>4754.404329</td>\n",
       "      <td>5355.602518</td>\n",
       "      <td>5530.490471</td>\n",
       "      <td>6665.039509</td>\n",
       "      <td>7047.089191</td>\n",
       "      <td>7874.225145</td>\n",
       "      <td>8895.817785</td>\n",
       "      <td>9713.209302</td>\n",
       "    </tr>\n",
       "    <tr>\n",
       "      <th>min</th>\n",
       "      <td>1397.717137</td>\n",
       "      <td>1544.402995</td>\n",
       "      <td>1662.137359</td>\n",
       "      <td>1452.057666</td>\n",
       "      <td>1654.456946</td>\n",
       "      <td>1874.298931</td>\n",
       "      <td>2011.159549</td>\n",
       "      <td>1823.015995</td>\n",
       "      <td>1456.309517</td>\n",
       "      <td>1341.726931</td>\n",
       "      <td>1270.364932</td>\n",
       "      <td>1201.637154</td>\n",
       "    </tr>\n",
       "    <tr>\n",
       "      <th>25%</th>\n",
       "      <td>2428.237769</td>\n",
       "      <td>2487.365989</td>\n",
       "      <td>2750.364446</td>\n",
       "      <td>3242.531147</td>\n",
       "      <td>4031.408271</td>\n",
       "      <td>4756.763836</td>\n",
       "      <td>4258.503604</td>\n",
       "      <td>4140.442097</td>\n",
       "      <td>4439.450840</td>\n",
       "      <td>4684.313807</td>\n",
       "      <td>4858.347495</td>\n",
       "      <td>5728.353514</td>\n",
       "    </tr>\n",
       "    <tr>\n",
       "      <th>50%</th>\n",
       "      <td>3048.302900</td>\n",
       "      <td>3780.546651</td>\n",
       "      <td>4086.114078</td>\n",
       "      <td>4643.393534</td>\n",
       "      <td>5305.445256</td>\n",
       "      <td>6281.290855</td>\n",
       "      <td>6434.501797</td>\n",
       "      <td>6360.943444</td>\n",
       "      <td>6618.743050</td>\n",
       "      <td>7113.692252</td>\n",
       "      <td>6994.774861</td>\n",
       "      <td>8948.102923</td>\n",
       "    </tr>\n",
       "    <tr>\n",
       "      <th>75%</th>\n",
       "      <td>3939.978789</td>\n",
       "      <td>4756.525781</td>\n",
       "      <td>5180.755910</td>\n",
       "      <td>5788.093330</td>\n",
       "      <td>6809.406690</td>\n",
       "      <td>7674.929108</td>\n",
       "      <td>8997.897412</td>\n",
       "      <td>7807.095818</td>\n",
       "      <td>8137.004775</td>\n",
       "      <td>9767.297530</td>\n",
       "      <td>8797.640716</td>\n",
       "      <td>11977.574960</td>\n",
       "    </tr>\n",
       "    <tr>\n",
       "      <th>max</th>\n",
       "      <td>13990.482080</td>\n",
       "      <td>14847.127120</td>\n",
       "      <td>16173.145860</td>\n",
       "      <td>19530.365570</td>\n",
       "      <td>21806.035940</td>\n",
       "      <td>24072.632130</td>\n",
       "      <td>25009.559140</td>\n",
       "      <td>29884.350410</td>\n",
       "      <td>32003.932240</td>\n",
       "      <td>35767.433030</td>\n",
       "      <td>39097.099550</td>\n",
       "      <td>42951.653090</td>\n",
       "    </tr>\n",
       "  </tbody>\n",
       "</table>\n",
       "</div>"
      ],
      "text/plain": [
       "       gdpPercap_1952  gdpPercap_1957  gdpPercap_1962  gdpPercap_1967  \\\n",
       "count       25.000000       25.000000       25.000000       25.000000   \n",
       "mean      4079.062552     4616.043733     4901.541870     5668.253496   \n",
       "std       3001.727522     3312.381083     3421.740569     4160.885560   \n",
       "min       1397.717137     1544.402995     1662.137359     1452.057666   \n",
       "25%       2428.237769     2487.365989     2750.364446     3242.531147   \n",
       "50%       3048.302900     3780.546651     4086.114078     4643.393534   \n",
       "75%       3939.978789     4756.525781     5180.755910     5788.093330   \n",
       "max      13990.482080    14847.127120    16173.145860    19530.365570   \n",
       "\n",
       "       gdpPercap_1972  gdpPercap_1977  gdpPercap_1982  gdpPercap_1987  \\\n",
       "count       25.000000       25.000000       25.000000       25.000000   \n",
       "mean      6491.334139     7352.007126     7506.737088     7793.400261   \n",
       "std       4754.404329     5355.602518     5530.490471     6665.039509   \n",
       "min       1654.456946     1874.298931     2011.159549     1823.015995   \n",
       "25%       4031.408271     4756.763836     4258.503604     4140.442097   \n",
       "50%       5305.445256     6281.290855     6434.501797     6360.943444   \n",
       "75%       6809.406690     7674.929108     8997.897412     7807.095818   \n",
       "max      21806.035940    24072.632130    25009.559140    29884.350410   \n",
       "\n",
       "       gdpPercap_1992  gdpPercap_1997  gdpPercap_2002  gdpPercap_2007  \n",
       "count       25.000000       25.000000       25.000000       25.000000  \n",
       "mean      8044.934406     8889.300863     9287.677107    11003.031625  \n",
       "std       7047.089191     7874.225145     8895.817785     9713.209302  \n",
       "min       1456.309517     1341.726931     1270.364932     1201.637154  \n",
       "25%       4439.450840     4684.313807     4858.347495     5728.353514  \n",
       "50%       6618.743050     7113.692252     6994.774861     8948.102923  \n",
       "75%       8137.004775     9767.297530     8797.640716    11977.574960  \n",
       "max      32003.932240    35767.433030    39097.099550    42951.653090  "
      ]
     },
     "execution_count": 80,
     "metadata": {},
     "output_type": "execute_result"
    }
   ],
   "source": [
    "data_reader.describe()"
   ]
  },
  {
   "cell_type": "code",
   "execution_count": 95,
   "id": "254f1aaa-3f73-449f-8b38-16c20fb31b5c",
   "metadata": {},
   "outputs": [],
   "source": [
    "mask_data = data_reader.loc[\"Costa Rica\":\"El Salvador\",\"gdpPercap_1957\":\"gdpPercap_1982\"]"
   ]
  },
  {
   "cell_type": "code",
   "execution_count": 96,
   "id": "ceaae973-bfdb-4d26-ad9f-b17b6302fb35",
   "metadata": {},
   "outputs": [
    {
     "data": {
      "text/html": [
       "<div>\n",
       "<style scoped>\n",
       "    .dataframe tbody tr th:only-of-type {\n",
       "        vertical-align: middle;\n",
       "    }\n",
       "\n",
       "    .dataframe tbody tr th {\n",
       "        vertical-align: top;\n",
       "    }\n",
       "\n",
       "    .dataframe thead th {\n",
       "        text-align: right;\n",
       "    }\n",
       "</style>\n",
       "<table border=\"1\" class=\"dataframe\">\n",
       "  <thead>\n",
       "    <tr style=\"text-align: right;\">\n",
       "      <th></th>\n",
       "      <th>gdpPercap_1957</th>\n",
       "      <th>gdpPercap_1962</th>\n",
       "      <th>gdpPercap_1967</th>\n",
       "      <th>gdpPercap_1972</th>\n",
       "      <th>gdpPercap_1977</th>\n",
       "      <th>gdpPercap_1982</th>\n",
       "    </tr>\n",
       "    <tr>\n",
       "      <th>country</th>\n",
       "      <th></th>\n",
       "      <th></th>\n",
       "      <th></th>\n",
       "      <th></th>\n",
       "      <th></th>\n",
       "      <th></th>\n",
       "    </tr>\n",
       "  </thead>\n",
       "  <tbody>\n",
       "    <tr>\n",
       "      <th>Costa Rica</th>\n",
       "      <td>2990.010802</td>\n",
       "      <td>3460.937025</td>\n",
       "      <td>4161.727834</td>\n",
       "      <td>5118.146939</td>\n",
       "      <td>5926.876967</td>\n",
       "      <td>5262.734751</td>\n",
       "    </tr>\n",
       "    <tr>\n",
       "      <th>Cuba</th>\n",
       "      <td>6092.174359</td>\n",
       "      <td>5180.755910</td>\n",
       "      <td>5690.268015</td>\n",
       "      <td>5305.445256</td>\n",
       "      <td>6380.494966</td>\n",
       "      <td>7316.918107</td>\n",
       "    </tr>\n",
       "    <tr>\n",
       "      <th>Dominican Republic</th>\n",
       "      <td>1544.402995</td>\n",
       "      <td>1662.137359</td>\n",
       "      <td>1653.723003</td>\n",
       "      <td>2189.874499</td>\n",
       "      <td>2681.988900</td>\n",
       "      <td>2861.092386</td>\n",
       "    </tr>\n",
       "    <tr>\n",
       "      <th>Ecuador</th>\n",
       "      <td>3780.546651</td>\n",
       "      <td>4086.114078</td>\n",
       "      <td>4579.074215</td>\n",
       "      <td>5280.994710</td>\n",
       "      <td>6679.623260</td>\n",
       "      <td>7213.791267</td>\n",
       "    </tr>\n",
       "    <tr>\n",
       "      <th>El Salvador</th>\n",
       "      <td>3421.523218</td>\n",
       "      <td>3776.803627</td>\n",
       "      <td>4358.595393</td>\n",
       "      <td>4520.246008</td>\n",
       "      <td>5138.922374</td>\n",
       "      <td>4098.344175</td>\n",
       "    </tr>\n",
       "  </tbody>\n",
       "</table>\n",
       "</div>"
      ],
      "text/plain": [
       "                    gdpPercap_1957  gdpPercap_1962  gdpPercap_1967  \\\n",
       "country                                                              \n",
       "Costa Rica             2990.010802     3460.937025     4161.727834   \n",
       "Cuba                   6092.174359     5180.755910     5690.268015   \n",
       "Dominican Republic     1544.402995     1662.137359     1653.723003   \n",
       "Ecuador                3780.546651     4086.114078     4579.074215   \n",
       "El Salvador            3421.523218     3776.803627     4358.595393   \n",
       "\n",
       "                    gdpPercap_1972  gdpPercap_1977  gdpPercap_1982  \n",
       "country                                                             \n",
       "Costa Rica             5118.146939     5926.876967     5262.734751  \n",
       "Cuba                   5305.445256     6380.494966     7316.918107  \n",
       "Dominican Republic     2189.874499     2681.988900     2861.092386  \n",
       "Ecuador                5280.994710     6679.623260     7213.791267  \n",
       "El Salvador            4520.246008     5138.922374     4098.344175  "
      ]
     },
     "execution_count": 96,
     "metadata": {},
     "output_type": "execute_result"
    }
   ],
   "source": [
    "mask_data"
   ]
  },
  {
   "cell_type": "code",
   "execution_count": 97,
   "id": "98e3b569-5a0f-4fc6-ae0a-2147ccd74f65",
   "metadata": {},
   "outputs": [
    {
     "data": {
      "text/plain": [
       "country\n",
       "Costa Rica            5926.876967\n",
       "Cuba                  7316.918107\n",
       "Dominican Republic    2861.092386\n",
       "Ecuador               7213.791267\n",
       "El Salvador           5138.922374\n",
       "dtype: float64"
      ]
     },
     "execution_count": 97,
     "metadata": {},
     "output_type": "execute_result"
    }
   ],
   "source": [
    "mask_data.max(1)"
   ]
  },
  {
   "cell_type": "code",
   "execution_count": 98,
   "id": "af5f289c-a037-48e1-ae59-2e23e0edb62e",
   "metadata": {},
   "outputs": [
    {
     "name": "stdout",
     "output_type": "stream",
     "text": [
      "                    gdpPercap_1957  gdpPercap_1962  gdpPercap_1967  \\\n",
      "country                                                              \n",
      "Costa Rica             2990.010802     3460.937025     4161.727834   \n",
      "Cuba                   6092.174359     5180.755910     5690.268015   \n",
      "Dominican Republic     1544.402995     1662.137359     1653.723003   \n",
      "Ecuador                3780.546651     4086.114078     4579.074215   \n",
      "El Salvador            3421.523218     3776.803627     4358.595393   \n",
      "\n",
      "                    gdpPercap_1972  gdpPercap_1977  gdpPercap_1982  \n",
      "country                                                             \n",
      "Costa Rica             5118.146939     5926.876967     5262.734751  \n",
      "Cuba                   5305.445256     6380.494966     7316.918107  \n",
      "Dominican Republic     2189.874499     2681.988900     2861.092386  \n",
      "Ecuador                5280.994710     6679.623260     7213.791267  \n",
      "El Salvador            4520.246008     5138.922374     4098.344175  \n"
     ]
    }
   ],
   "source": [
    "print(mask_data)"
   ]
  },
  {
   "cell_type": "code",
   "execution_count": 99,
   "id": "caac9db1-0360-45d3-b92e-e6c704ea3b67",
   "metadata": {},
   "outputs": [
    {
     "name": "stdout",
     "output_type": "stream",
     "text": [
      "                    gdpPercap_1957  gdpPercap_1962  gdpPercap_1967  \\\n",
      "country                                                              \n",
      "Costa Rica                    True            True            True   \n",
      "Cuba                          True            True            True   \n",
      "Dominican Republic           False           False           False   \n",
      "Ecuador                       True            True            True   \n",
      "El Salvador                   True            True            True   \n",
      "\n",
      "                    gdpPercap_1972  gdpPercap_1977  gdpPercap_1982  \n",
      "country                                                             \n",
      "Costa Rica                    True            True            True  \n",
      "Cuba                          True            True            True  \n",
      "Dominican Republic            True            True            True  \n",
      "Ecuador                       True            True            True  \n",
      "El Salvador                   True            True            True  \n"
     ]
    }
   ],
   "source": [
    "print(mask_data>2000) "
   ]
  },
  {
   "cell_type": "code",
   "execution_count": 100,
   "id": "a944a56a-59f9-4753-84b0-6eb19aab68c4",
   "metadata": {},
   "outputs": [],
   "source": [
    "mask = mask_data > 2000 \n"
   ]
  },
  {
   "cell_type": "code",
   "execution_count": 104,
   "id": "88356b8a-0426-485d-9c7a-5aec289ba43d",
   "metadata": {},
   "outputs": [
    {
     "name": "stdout",
     "output_type": "stream",
     "text": [
      "                    gdpPercap_1957  gdpPercap_1962  gdpPercap_1967  \\\n",
      "country                                                              \n",
      "Costa Rica             2990.010802     3460.937025     4161.727834   \n",
      "Cuba                   6092.174359     5180.755910     5690.268015   \n",
      "Dominican Republic             NaN             NaN             NaN   \n",
      "Ecuador                3780.546651     4086.114078     4579.074215   \n",
      "El Salvador            3421.523218     3776.803627     4358.595393   \n",
      "\n",
      "                    gdpPercap_1972  gdpPercap_1977  gdpPercap_1982  \n",
      "country                                                             \n",
      "Costa Rica             5118.146939     5926.876967     5262.734751  \n",
      "Cuba                   5305.445256     6380.494966     7316.918107  \n",
      "Dominican Republic     2189.874499     2681.988900     2861.092386  \n",
      "Ecuador                5280.994710     6679.623260     7213.791267  \n",
      "El Salvador            4520.246008     5138.922374     4098.344175  \n"
     ]
    },
    {
     "ename": "AttributeError",
     "evalue": "'NoneType' object has no attribute 'info'",
     "output_type": "error",
     "traceback": [
      "\u001b[0;31m---------------------------------------------------------------------------\u001b[0m",
      "\u001b[0;31mAttributeError\u001b[0m                            Traceback (most recent call last)",
      "\u001b[0;32m<ipython-input-104-2a8a5e06be11>\u001b[0m in \u001b[0;36m<module>\u001b[0;34m\u001b[0m\n\u001b[0;32m----> 1\u001b[0;31m \u001b[0mprint\u001b[0m\u001b[0;34m(\u001b[0m\u001b[0mmask_data\u001b[0m\u001b[0;34m[\u001b[0m\u001b[0mmask\u001b[0m\u001b[0;34m]\u001b[0m\u001b[0;34m)\u001b[0m\u001b[0;34m.\u001b[0m\u001b[0minfo\u001b[0m\u001b[0;34m\u001b[0m\u001b[0;34m\u001b[0m\u001b[0m\n\u001b[0m",
      "\u001b[0;31mAttributeError\u001b[0m: 'NoneType' object has no attribute 'info'"
     ]
    }
   ],
   "source": [
    "print(mask_data[mask])"
   ]
  },
  {
   "cell_type": "code",
   "execution_count": 106,
   "id": "f9c3dbb5-d2d3-43d0-9c35-372a1aed1a9a",
   "metadata": {},
   "outputs": [
    {
     "name": "stdout",
     "output_type": "stream",
     "text": [
      "<class 'pandas.core.frame.DataFrame'>\n",
      "Index: 5 entries, Costa Rica to El Salvador\n",
      "Data columns (total 6 columns):\n",
      " #   Column          Non-Null Count  Dtype  \n",
      "---  ------          --------------  -----  \n",
      " 0   gdpPercap_1957  4 non-null      float64\n",
      " 1   gdpPercap_1962  4 non-null      float64\n",
      " 2   gdpPercap_1967  4 non-null      float64\n",
      " 3   gdpPercap_1972  5 non-null      float64\n",
      " 4   gdpPercap_1977  5 non-null      float64\n",
      " 5   gdpPercap_1982  5 non-null      float64\n",
      "dtypes: float64(6)\n",
      "memory usage: 452.0+ bytes\n"
     ]
    }
   ],
   "source": [
    "mask_data[mask].info()"
   ]
  },
  {
   "cell_type": "code",
   "execution_count": 108,
   "id": "f125d021-6c19-46a7-a1cc-57e0ba2645ee",
   "metadata": {},
   "outputs": [],
   "source": [
    "import matplotlib.pyplot as plt"
   ]
  },
  {
   "cell_type": "code",
   "execution_count": 111,
   "id": "9ad95086-9805-4f5e-9621-367bd55fb306",
   "metadata": {},
   "outputs": [],
   "source": [
    "oceania_data = pd.read_csv(\"data/gapminder_gdp_oceania.csv\", index_col = \"country\")"
   ]
  },
  {
   "cell_type": "code",
   "execution_count": 112,
   "id": "15bbaa7e-c7db-4cba-af39-9da47fafc3d0",
   "metadata": {},
   "outputs": [],
   "source": [
    "locating_new_zealand = oceania_data.loc[\"New Zealand\", \"gdpPercap_1952\":]"
   ]
  },
  {
   "cell_type": "code",
   "execution_count": 114,
   "id": "3ec9fbe2-ba1f-465d-8dda-2b9a5a244145",
   "metadata": {},
   "outputs": [
    {
     "data": {
      "text/plain": [
       "<AxesSubplot:>"
      ]
     },
     "execution_count": 114,
     "metadata": {},
     "output_type": "execute_result"
    },
    {
     "data": {
      "image/png": "[encoded data removed]",
      "text/plain": [
       "<Figure size 432x288 with 1 Axes>"
      ]
     },
     "metadata": {
      "needs_background": "light"
     },
     "output_type": "display_data"
    }
   ],
   "source": [
    "locating_new_zealand.plot()"
   ]
  },
  {
   "cell_type": "code",
   "execution_count": 116,
   "id": "871923a4-1214-4938-a6fc-1ec7737dee4f",
   "metadata": {},
   "outputs": [
    {
     "ename": "AttributeError",
     "evalue": "'Series' object has no attribute 'columns'",
     "output_type": "error",
     "traceback": [
      "\u001b[0;31m---------------------------------------------------------------------------\u001b[0m",
      "\u001b[0;31mAttributeError\u001b[0m                            Traceback (most recent call last)",
      "\u001b[0;32m<ipython-input-116-754fb919e4c9>\u001b[0m in \u001b[0;36m<module>\u001b[0;34m\u001b[0m\n\u001b[0;32m----> 1\u001b[0;31m \u001b[0myears\u001b[0m \u001b[0;34m=\u001b[0m \u001b[0mlocating_new_zealand\u001b[0m\u001b[0;34m.\u001b[0m\u001b[0mcolumns\u001b[0m\u001b[0;34m.\u001b[0m\u001b[0mstr\u001b[0m\u001b[0;34m.\u001b[0m\u001b[0mreplace\u001b[0m\u001b[0;34m(\u001b[0m\u001b[0;34m)\u001b[0m\u001b[0;34m\u001b[0m\u001b[0;34m\u001b[0m\u001b[0m\n\u001b[0m",
      "\u001b[0;32m~/opt/anaconda3/lib/python3.8/site-packages/pandas/core/generic.py\u001b[0m in \u001b[0;36m__getattr__\u001b[0;34m(self, name)\u001b[0m\n\u001b[1;32m   5463\u001b[0m             \u001b[0;32mif\u001b[0m \u001b[0mself\u001b[0m\u001b[0;34m.\u001b[0m\u001b[0m_info_axis\u001b[0m\u001b[0;34m.\u001b[0m\u001b[0m_can_hold_identifiers_and_holds_name\u001b[0m\u001b[0;34m(\u001b[0m\u001b[0mname\u001b[0m\u001b[0;34m)\u001b[0m\u001b[0;34m:\u001b[0m\u001b[0;34m\u001b[0m\u001b[0;34m\u001b[0m\u001b[0m\n\u001b[1;32m   5464\u001b[0m                 \u001b[0;32mreturn\u001b[0m \u001b[0mself\u001b[0m\u001b[0;34m[\u001b[0m\u001b[0mname\u001b[0m\u001b[0;34m]\u001b[0m\u001b[0;34m\u001b[0m\u001b[0;34m\u001b[0m\u001b[0m\n\u001b[0;32m-> 5465\u001b[0;31m             \u001b[0;32mreturn\u001b[0m \u001b[0mobject\u001b[0m\u001b[0;34m.\u001b[0m\u001b[0m__getattribute__\u001b[0m\u001b[0;34m(\u001b[0m\u001b[0mself\u001b[0m\u001b[0;34m,\u001b[0m \u001b[0mname\u001b[0m\u001b[0;34m)\u001b[0m\u001b[0;34m\u001b[0m\u001b[0;34m\u001b[0m\u001b[0m\n\u001b[0m\u001b[1;32m   5466\u001b[0m \u001b[0;34m\u001b[0m\u001b[0m\n\u001b[1;32m   5467\u001b[0m     \u001b[0;32mdef\u001b[0m \u001b[0m__setattr__\u001b[0m\u001b[0;34m(\u001b[0m\u001b[0mself\u001b[0m\u001b[0;34m,\u001b[0m \u001b[0mname\u001b[0m\u001b[0;34m:\u001b[0m \u001b[0mstr\u001b[0m\u001b[0;34m,\u001b[0m \u001b[0mvalue\u001b[0m\u001b[0;34m)\u001b[0m \u001b[0;34m->\u001b[0m \u001b[0;32mNone\u001b[0m\u001b[0;34m:\u001b[0m\u001b[0;34m\u001b[0m\u001b[0;34m\u001b[0m\u001b[0m\n",
      "\u001b[0;31mAttributeError\u001b[0m: 'Series' object has no attribute 'columns'"
     ]
    }
   ],
   "source": [
    "years = locating_new_zealand.columns.str.replace()"
   ]
  },
  {
   "cell_type": "code",
   "execution_count": null,
   "id": "94b84f3c-bf1e-4fc2-8de0-b73b92f8695e",
   "metadata": {},
   "outputs": [],
   "source": []
  }
 ],
 "metadata": {
  "kernelspec": {
   "display_name": "Python 3",
   "language": "python",
   "name": "python3"
  },
  "language_info": {
   "codemirror_mode": {
    "name": "ipython",
    "version": 3
   },
   "file_extension": ".py",
   "mimetype": "text/x-python",
   "name": "python",
   "nbconvert_exporter": "python",
   "pygments_lexer": "ipython3",
   "version": "3.8.8"
  }
 },
 "nbformat": 4,
 "nbformat_minor": 5
}
