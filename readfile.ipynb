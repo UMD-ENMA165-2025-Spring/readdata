{
 "cells": [
  {
   "cell_type": "code",
   "execution_count": 46,
   "id": "85f69395",
   "metadata": {},
   "outputs": [],
   "source": [
    "f = open(\"data/gapminder_gdp_oceania.csv\",\"r\")"
   ]
  },
  {
   "cell_type": "code",
   "execution_count": 47,
   "id": "8f51d552",
   "metadata": {
    "scrolled": true
   },
   "outputs": [
    {
     "data": {
      "text/plain": [
       "'country,gdpPercap_1952,gdpPercap_1957,gdpPercap_1962,gdpPercap_1967,gdpPercap_1972,gdpPercap_1977,gdpPercap_1982,gdpPercap_1987,gdpPercap_1992,gdpPercap_1997,gdpPercap_2002,gdpPercap_2007\\nAustralia,10039.59564,10949.64959,12217.22686,14526.12465,16788.62948,18334.19751,19477.00928,21888.88903,23424.76683,26997.93657,30687.75473,34435.36744\\nNew Zealand,10556.57566,12247.39532,13175.678,14463.91893,16046.03728,16233.7177,17632.4104,19007.19129,18363.32494,21050.41377,23189.80135,25185.00911\\n'"
      ]
     },
     "execution_count": 47,
     "metadata": {},
     "output_type": "execute_result"
    }
   ],
   "source": [
    "f.read()"
   ]
  },
  {
   "cell_type": "code",
   "execution_count": 48,
   "id": "8539f7e1",
   "metadata": {},
   "outputs": [],
   "source": [
    "s = f.read()"
   ]
  },
  {
   "cell_type": "code",
   "execution_count": 49,
   "id": "db941a62",
   "metadata": {},
   "outputs": [
    {
     "name": "stdout",
     "output_type": "stream",
     "text": [
      "\n"
     ]
    }
   ],
   "source": [
    "print(s)"
   ]
  },
  {
   "cell_type": "code",
   "execution_count": 50,
   "id": "8d3d2f3e",
   "metadata": {},
   "outputs": [
    {
     "data": {
      "text/plain": [
       "str"
      ]
     },
     "execution_count": 50,
     "metadata": {},
     "output_type": "execute_result"
    }
   ],
   "source": [
    "type(s)"
   ]
  },
  {
   "cell_type": "code",
   "execution_count": 51,
   "id": "666a1315",
   "metadata": {},
   "outputs": [
    {
     "name": "stdout",
     "output_type": "stream",
     "text": [
      "\n"
     ]
    }
   ],
   "source": [
    "print(s)"
   ]
  },
  {
   "cell_type": "code",
   "execution_count": 52,
   "id": "dc0256fe",
   "metadata": {},
   "outputs": [
    {
     "name": "stdout",
     "output_type": "stream",
     "text": [
      "\n"
     ]
    }
   ],
   "source": [
    "print(s)"
   ]
  },
  {
   "cell_type": "code",
   "execution_count": 53,
   "id": "0284e8a6",
   "metadata": {},
   "outputs": [],
   "source": [
    "f.close()"
   ]
  },
  {
   "cell_type": "code",
   "execution_count": 54,
   "id": "b8ef3c15",
   "metadata": {},
   "outputs": [],
   "source": [
    "#f.read()"
   ]
  },
  {
   "cell_type": "code",
   "execution_count": 55,
   "id": "542aad0b",
   "metadata": {},
   "outputs": [],
   "source": [
    "f = open(\"data/gapminder_gdp_oceania.csv\",\"r\")"
   ]
  },
  {
   "cell_type": "code",
   "execution_count": 56,
   "id": "a8763a98",
   "metadata": {},
   "outputs": [],
   "source": [
    "s = f.read()"
   ]
  },
  {
   "cell_type": "code",
   "execution_count": 57,
   "id": "9e963b14",
   "metadata": {
    "scrolled": true
   },
   "outputs": [
    {
     "name": "stdout",
     "output_type": "stream",
     "text": [
      "country,gdpPercap_1952,gdpPercap_1957,gdpPercap_1962,gdpPercap_1967,gdpPercap_1972,gdpPercap_1977,gdpPercap_1982,gdpPercap_1987,gdpPercap_1992,gdpPercap_1997,gdpPercap_2002,gdpPercap_2007\n",
      "Australia,10039.59564,10949.64959,12217.22686,14526.12465,16788.62948,18334.19751,19477.00928,21888.88903,23424.76683,26997.93657,30687.75473,34435.36744\n",
      "New Zealand,10556.57566,12247.39532,13175.678,14463.91893,16046.03728,16233.7177,17632.4104,19007.19129,18363.32494,21050.41377,23189.80135,25185.00911\n",
      "\n"
     ]
    }
   ],
   "source": [
    "print(s)"
   ]
  },
  {
   "cell_type": "code",
   "execution_count": 58,
   "id": "2c0b005e",
   "metadata": {},
   "outputs": [],
   "source": [
    "#f.seek(0, SEEK_SET)"
   ]
  },
  {
   "cell_type": "code",
   "execution_count": 59,
   "id": "82fcff31",
   "metadata": {},
   "outputs": [
    {
     "data": {
      "text/plain": [
       "0"
      ]
     },
     "execution_count": 59,
     "metadata": {},
     "output_type": "execute_result"
    }
   ],
   "source": [
    "f.seek(0)"
   ]
  },
  {
   "cell_type": "code",
   "execution_count": 60,
   "id": "b3b499fc",
   "metadata": {},
   "outputs": [
    {
     "data": {
      "text/plain": [
       "'country,gdpPercap_1952,gdpPercap_1957,gdpPercap_1962,gdpPercap_1967,gdpPercap_1972,gdpPercap_1977,gdpPercap_1982,gdpPercap_1987,gdpPercap_1992,gdpPercap_1997,gdpPercap_2002,gdpPercap_2007\\nAustralia,10039.59564,10949.64959,12217.22686,14526.12465,16788.62948,18334.19751,19477.00928,21888.88903,23424.76683,26997.93657,30687.75473,34435.36744\\nNew Zealand,10556.57566,12247.39532,13175.678,14463.91893,16046.03728,16233.7177,17632.4104,19007.19129,18363.32494,21050.41377,23189.80135,25185.00911\\n'"
      ]
     },
     "execution_count": 60,
     "metadata": {},
     "output_type": "execute_result"
    }
   ],
   "source": [
    "f.read()"
   ]
  },
  {
   "cell_type": "code",
   "execution_count": 61,
   "id": "e5e8ccaf",
   "metadata": {},
   "outputs": [
    {
     "data": {
      "text/plain": [
       "<function TextIOWrapper.tell()>"
      ]
     },
     "execution_count": 61,
     "metadata": {},
     "output_type": "execute_result"
    }
   ],
   "source": [
    "f.tell"
   ]
  },
  {
   "cell_type": "code",
   "execution_count": 62,
   "id": "7722e331",
   "metadata": {},
   "outputs": [
    {
     "data": {
      "text/plain": [
       "497"
      ]
     },
     "execution_count": 62,
     "metadata": {},
     "output_type": "execute_result"
    }
   ],
   "source": [
    "f.tell()"
   ]
  },
  {
   "cell_type": "code",
   "execution_count": 63,
   "id": "fcc9ad5c",
   "metadata": {},
   "outputs": [],
   "source": [
    "f.close()"
   ]
  },
  {
   "cell_type": "code",
   "execution_count": 64,
   "id": "4e747d0a",
   "metadata": {},
   "outputs": [
    {
     "data": {
      "text/plain": [
       "['country',\n",
       " 'gdpPercap_1952',\n",
       " 'gdpPercap_1957',\n",
       " 'gdpPercap_1962',\n",
       " 'gdpPercap_1967',\n",
       " 'gdpPercap_1972',\n",
       " 'gdpPercap_1977',\n",
       " 'gdpPercap_1982',\n",
       " 'gdpPercap_1987',\n",
       " 'gdpPercap_1992',\n",
       " 'gdpPercap_1997',\n",
       " 'gdpPercap_2002',\n",
       " 'gdpPercap_2007\\nAustralia',\n",
       " '10039.59564',\n",
       " '10949.64959',\n",
       " '12217.22686',\n",
       " '14526.12465',\n",
       " '16788.62948',\n",
       " '18334.19751',\n",
       " '19477.00928',\n",
       " '21888.88903',\n",
       " '23424.76683',\n",
       " '26997.93657',\n",
       " '30687.75473',\n",
       " '34435.36744\\nNew Zealand',\n",
       " '10556.57566',\n",
       " '12247.39532',\n",
       " '13175.678',\n",
       " '14463.91893',\n",
       " '16046.03728',\n",
       " '16233.7177',\n",
       " '17632.4104',\n",
       " '19007.19129',\n",
       " '18363.32494',\n",
       " '21050.41377',\n",
       " '23189.80135',\n",
       " '25185.00911\\n']"
      ]
     },
     "execution_count": 64,
     "metadata": {},
     "output_type": "execute_result"
    }
   ],
   "source": [
    "s.split(\",\")"
   ]
  },
  {
   "cell_type": "code",
   "execution_count": 65,
   "id": "e225b47a",
   "metadata": {},
   "outputs": [
    {
     "data": {
      "text/plain": [
       "['country,gdpPercap_1952,gdpPercap_1957,gdpPercap_1962,gdpPercap_1967,gdpPercap_1972,gdpPercap_1977,gdpPercap_1982,gdpPercap_1987,gdpPercap_1992,gdpPercap_1997,gdpPercap_2002,gdpPercap_2007',\n",
       " 'Australia,10039.59564,10949.64959,12217.22686,14526.12465,16788.62948,18334.19751,19477.00928,21888.88903,23424.76683,26997.93657,30687.75473,34435.36744',\n",
       " 'New Zealand,10556.57566,12247.39532,13175.678,14463.91893,16046.03728,16233.7177,17632.4104,19007.19129,18363.32494,21050.41377,23189.80135,25185.00911',\n",
       " '']"
      ]
     },
     "execution_count": 65,
     "metadata": {},
     "output_type": "execute_result"
    }
   ],
   "source": [
    "s.split(\"\\n\")"
   ]
  },
  {
   "cell_type": "code",
   "execution_count": 66,
   "id": "d4ba1e6a",
   "metadata": {},
   "outputs": [
    {
     "data": {
      "text/plain": [
       "['country,gdpPercap_1952,gdpPercap_1957,gdpPercap_1962,gdpPercap_1967,gdpPercap_1972,gdpPercap_1977,gdpPercap_1982,gdpPercap_1987,gdpPercap_1992,gdpPercap_1997,gdpPercap_2002,gdpPercap_2007',\n",
       " 'Australia,10039.59564,10949.64959,12217.22686,14526.12465,16788.62948,18334.19751,19477.00928,21888.88903,23424.76683,26997.93657,30687.75473,34435.36744',\n",
       " 'New',\n",
       " 'Zealand,10556.57566,12247.39532,13175.678,14463.91893,16046.03728,16233.7177,17632.4104,19007.19129,18363.32494,21050.41377,23189.80135,25185.00911']"
      ]
     },
     "execution_count": 66,
     "metadata": {},
     "output_type": "execute_result"
    }
   ],
   "source": [
    "s.split()"
   ]
  },
  {
   "cell_type": "code",
   "execution_count": 67,
   "id": "a5cabab3",
   "metadata": {},
   "outputs": [
    {
     "data": {
      "text/plain": [
       "'country,gdpPercap_1952,gdpPercap_1957,gdpPercap_1962,gdpPercap_1967,gdpPercap_1972,gdpPercap_1977,gdpPercap_1982,gdpPercap_1987,gdpPercap_1992,gdpPercap_1997,gdpPercap_2002,gdpPercap_2007\\nAustralia,10039.59564,10949.64959,12217.22686,14526.12465,16788.62948,18334.19751,19477.00928,21888.88903,23424.76683,26997.93657,30687.75473,34435.36744\\nNew Zealand,10556.57566,12247.39532,13175.678,14463.91893,16046.03728,16233.7177,17632.4104,19007.19129,18363.32494,21050.41377,23189.80135,25185.00911'"
      ]
     },
     "execution_count": 67,
     "metadata": {},
     "output_type": "execute_result"
    }
   ],
   "source": [
    "s.strip()"
   ]
  },
  {
   "cell_type": "code",
   "execution_count": 68,
   "id": "70e0b978",
   "metadata": {},
   "outputs": [],
   "source": [
    "a = s.strip()"
   ]
  },
  {
   "cell_type": "code",
   "execution_count": 69,
   "id": "7a7106f7",
   "metadata": {},
   "outputs": [
    {
     "data": {
      "text/plain": [
       "['country,gdpPercap_1952,gdpPercap_1957,gdpPercap_1962,gdpPercap_1967,gdpPercap_1972,gdpPercap_1977,gdpPercap_1982,gdpPercap_1987,gdpPercap_1992,gdpPercap_1997,gdpPercap_2002,gdpPercap_2007',\n",
       " 'Australia,10039.59564,10949.64959,12217.22686,14526.12465,16788.62948,18334.19751,19477.00928,21888.88903,23424.76683,26997.93657,30687.75473,34435.36744',\n",
       " 'New',\n",
       " 'Zealand,10556.57566,12247.39532,13175.678,14463.91893,16046.03728,16233.7177,17632.4104,19007.19129,18363.32494,21050.41377,23189.80135,25185.00911']"
      ]
     },
     "execution_count": 69,
     "metadata": {},
     "output_type": "execute_result"
    }
   ],
   "source": [
    "a.split()"
   ]
  },
  {
   "cell_type": "code",
   "execution_count": 70,
   "id": "284c2b99",
   "metadata": {},
   "outputs": [
    {
     "data": {
      "text/plain": [
       "['country,gdpPercap_1952,gdpPercap_1957,gdpPercap_1962,gdpPercap_1967,gdpPercap_1972,gdpPercap_1977,gdpPercap_1982,gdpPercap_1987,gdpPercap_1992,gdpPercap_1997,gdpPercap_2002,gdpPercap_2007',\n",
       " 'Australia,10039.59564,10949.64959,12217.22686,14526.12465,16788.62948,18334.19751,19477.00928,21888.88903,23424.76683,26997.93657,30687.75473,34435.36744',\n",
       " 'New Zealand,10556.57566,12247.39532,13175.678,14463.91893,16046.03728,16233.7177,17632.4104,19007.19129,18363.32494,21050.41377,23189.80135,25185.00911']"
      ]
     },
     "execution_count": 70,
     "metadata": {},
     "output_type": "execute_result"
    }
   ],
   "source": [
    "a.split(\"\\n\")"
   ]
  },
  {
   "cell_type": "code",
   "execution_count": 71,
   "id": "9bf3508c",
   "metadata": {},
   "outputs": [
    {
     "data": {
      "text/plain": [
       "['country,gdpPercap_1952,gdpPercap_1957,gdpPercap_1962,gdpPercap_1967,gdpPercap_1972,gdpPercap_1977,gdpPercap_1982,gdpPercap_1987,gdpPercap_1992,gdpPercap_1997,gdpPercap_2002,gdpPercap_2007',\n",
       " 'Australia,10039.59564,10949.64959,12217.22686,14526.12465,16788.62948,18334.19751,19477.00928,21888.88903,23424.76683,26997.93657,30687.75473,34435.36744',\n",
       " 'New Zealand,10556.57566,12247.39532,13175.678,14463.91893,16046.03728,16233.7177,17632.4104,19007.19129,18363.32494,21050.41377,23189.80135,25185.00911']"
      ]
     },
     "execution_count": 71,
     "metadata": {},
     "output_type": "execute_result"
    }
   ],
   "source": [
    "s.strip().split(\"\\n\")"
   ]
  },
  {
   "cell_type": "code",
   "execution_count": 72,
   "id": "9d7ed06e",
   "metadata": {},
   "outputs": [],
   "source": [
    "#s.split(\"\\n\").strip()"
   ]
  },
  {
   "cell_type": "code",
   "execution_count": 73,
   "id": "434c84d3",
   "metadata": {},
   "outputs": [
    {
     "name": "stdout",
     "output_type": "stream",
     "text": [
      "['country', 'gdpPercap_1952', 'gdpPercap_1957', 'gdpPercap_1962', 'gdpPercap_1967', 'gdpPercap_1972', 'gdpPercap_1977', 'gdpPercap_1982', 'gdpPercap_1987', 'gdpPercap_1992', 'gdpPercap_1997', 'gdpPercap_2002', 'gdpPercap_2007', 'Australia', '10039.59564', '10949.64959', '12217.22686', '14526.12465', '16788.62948', '18334.19751', '19477.00928', '21888.88903', '23424.76683', '26997.93657', '30687.75473', '34435.36744', 'New Zealand', '10556.57566', '12247.39532', '13175.678', '14463.91893', '16046.03728', '16233.7177', '17632.4104', '19007.19129', '18363.32494', '21050.41377', '23189.80135', '25185.00911']\n"
     ]
    }
   ],
   "source": [
    "entries = []\n",
    "for row in s.strip().split(\"\\n\"):\n",
    "    for entry in row.split(\",\"):\n",
    "        entries.append(entry)\n",
    "\n",
    "print(entries)"
   ]
  },
  {
   "cell_type": "code",
   "execution_count": 74,
   "id": "4c6b4a12",
   "metadata": {},
   "outputs": [
    {
     "name": "stdout",
     "output_type": "stream",
     "text": [
      "[['country', 'gdpPercap_1952', 'gdpPercap_1957', 'gdpPercap_1962', 'gdpPercap_1967', 'gdpPercap_1972', 'gdpPercap_1977', 'gdpPercap_1982', 'gdpPercap_1987', 'gdpPercap_1992', 'gdpPercap_1997', 'gdpPercap_2002', 'gdpPercap_2007'], ['Australia', '10039.59564', '10949.64959', '12217.22686', '14526.12465', '16788.62948', '18334.19751', '19477.00928', '21888.88903', '23424.76683', '26997.93657', '30687.75473', '34435.36744'], ['New Zealand', '10556.57566', '12247.39532', '13175.678', '14463.91893', '16046.03728', '16233.7177', '17632.4104', '19007.19129', '18363.32494', '21050.41377', '23189.80135', '25185.00911']]\n"
     ]
    }
   ],
   "source": [
    "entries = []\n",
    "for row in s.strip().split(\"\\n\"):\n",
    "    values = row.split(\",\")\n",
    "    entries.append(values)\n",
    "\n",
    "print(entries)"
   ]
  },
  {
   "cell_type": "code",
   "execution_count": 75,
   "id": "af0b1f40",
   "metadata": {},
   "outputs": [
    {
     "data": {
      "text/plain": [
       "['10039.59564',\n",
       " '10949.64959',\n",
       " '12217.22686',\n",
       " '14526.12465',\n",
       " '16788.62948',\n",
       " '18334.19751',\n",
       " '19477.00928',\n",
       " '21888.88903',\n",
       " '23424.76683',\n",
       " '26997.93657',\n",
       " '30687.75473',\n",
       " '34435.36744']"
      ]
     },
     "execution_count": 75,
     "metadata": {},
     "output_type": "execute_result"
    }
   ],
   "source": [
    "entries[1][1:]"
   ]
  },
  {
   "cell_type": "raw",
   "id": "dcaa4b63",
   "metadata": {},
   "source": [
    "sum(entries[1][1:])"
   ]
  },
  {
   "cell_type": "code",
   "execution_count": 76,
   "id": "0781668e",
   "metadata": {},
   "outputs": [
    {
     "name": "stdout",
     "output_type": "stream",
     "text": [
      "[10039.59564, 10949.64959, 12217.22686, 14526.12465, 16788.62948, 18334.19751, 19477.00928, 21888.88903, 23424.76683, 26997.93657, 30687.75473, 34435.36744]\n"
     ]
    }
   ],
   "source": [
    "floats = []\n",
    "for entry in entries[1][1:]:\n",
    "    r = float(entry)\n",
    "    floats.append(r)\n",
    "print(floats)"
   ]
  },
  {
   "cell_type": "code",
   "execution_count": 77,
   "id": "085c11bb",
   "metadata": {},
   "outputs": [
    {
     "data": {
      "text/plain": [
       "19980.595634166668"
      ]
     },
     "execution_count": 77,
     "metadata": {},
     "output_type": "execute_result"
    }
   ],
   "source": [
    "sum(floats)/len(floats)"
   ]
  },
  {
   "cell_type": "code",
   "execution_count": 78,
   "id": "7f29dada",
   "metadata": {},
   "outputs": [
    {
     "data": {
      "text/plain": [
       "14495.021789999999"
      ]
     },
     "execution_count": 78,
     "metadata": {},
     "output_type": "execute_result"
    }
   ],
   "source": [
    "s = 0\n",
    "for country in entries[1:]:\n",
    "    s += float(country[4])\n",
    "\n",
    "s / (len(entries)-1)"
   ]
  },
  {
   "cell_type": "code",
   "execution_count": 79,
   "id": "86114506",
   "metadata": {},
   "outputs": [
    {
     "data": {
      "text/plain": [
       "14495.021789999999"
      ]
     },
     "execution_count": 79,
     "metadata": {},
     "output_type": "execute_result"
    }
   ],
   "source": [
    "l = []\n",
    "for country in entries[1:]:\n",
    "    l.append(float(country[4]))\n",
    "\n",
    "sum(l) / (len(entries)-1)"
   ]
  },
  {
   "cell_type": "code",
   "execution_count": 80,
   "id": "a434e4f5",
   "metadata": {},
   "outputs": [],
   "source": [
    "#import pandas as pd\n",
    "#pd.load_csv(\"./data/gapminder_gdp_oceania.csv\")"
   ]
  },
  {
   "cell_type": "code",
   "execution_count": 81,
   "id": "974414a2",
   "metadata": {},
   "outputs": [],
   "source": [
    "#entries[1:][4]"
   ]
  },
  {
   "cell_type": "code",
   "execution_count": 82,
   "id": "6fc274b2",
   "metadata": {},
   "outputs": [],
   "source": [
    "import numpy"
   ]
  },
  {
   "cell_type": "code",
   "execution_count": null,
   "id": "ae003f0b",
   "metadata": {},
   "outputs": [],
   "source": []
  },
  {
   "cell_type": "markdown",
   "id": "78080cb2",
   "metadata": {},
   "source": [
    "## introduce numpy"
   ]
  },
  {
   "cell_type": "code",
   "execution_count": 83,
   "id": "f7947322",
   "metadata": {},
   "outputs": [],
   "source": [
    "import numpy"
   ]
  },
  {
   "cell_type": "code",
   "execution_count": 84,
   "id": "f1402a8d",
   "metadata": {},
   "outputs": [
    {
     "data": {
      "text/plain": [
       "array([[10039.59564, 10949.64959, 12217.22686, 14526.12465, 16788.62948,\n",
       "        18334.19751, 19477.00928, 21888.88903, 23424.76683, 26997.93657,\n",
       "        30687.75473, 34435.36744],\n",
       "       [10556.57566, 12247.39532, 13175.678  , 14463.91893, 16046.03728,\n",
       "        16233.7177 , 17632.4104 , 19007.19129, 18363.32494, 21050.41377,\n",
       "        23189.80135, 25185.00911]])"
      ]
     },
     "execution_count": 84,
     "metadata": {},
     "output_type": "execute_result"
    }
   ],
   "source": [
    "numpy.loadtxt(skiprows=1,fname=\"data/gapminder_gdp_oceania.csv\",usecols=range(1,13),delimiter=\",\")"
   ]
  },
  {
   "cell_type": "code",
   "execution_count": 85,
   "id": "b5e4bc11",
   "metadata": {},
   "outputs": [],
   "source": [
    "variable0=numpy.loadtxt(skiprows=1,fname=\"data/gapminder_gdp_oceania.csv\",usecols=range(1,13),delimiter=\",\")\n",
    "rowzero=variable0[0]"
   ]
  },
  {
   "cell_type": "code",
   "execution_count": 86,
   "id": "258dd409-5cee-4a71-a2e8-0d7ca3b4a8e5",
   "metadata": {},
   "outputs": [
    {
     "data": {
      "text/plain": [
       "numpy.ndarray"
      ]
     },
     "execution_count": 86,
     "metadata": {},
     "output_type": "execute_result"
    }
   ],
   "source": [
    "type(rowzero)"
   ]
  },
  {
   "cell_type": "code",
   "execution_count": 87,
   "id": "085ac974-d753-4293-955f-17af44987f75",
   "metadata": {},
   "outputs": [
    {
     "data": {
      "text/plain": [
       "np.float64(19980.595634166664)"
      ]
     },
     "execution_count": 87,
     "metadata": {},
     "output_type": "execute_result"
    }
   ],
   "source": [
    "rowzero.mean()"
   ]
  },
  {
   "cell_type": "code",
   "execution_count": 88,
   "id": "315215c7-071a-49d0-94d3-7f100ed46cc7",
   "metadata": {},
   "outputs": [
    {
     "data": {
      "text/plain": [
       "array([10039.59564, 10949.64959, 12217.22686, 14526.12465, 16788.62948,\n",
       "       18334.19751, 19477.00928, 21888.88903, 23424.76683, 26997.93657,\n",
       "       30687.75473, 34435.36744])"
      ]
     },
     "execution_count": 88,
     "metadata": {},
     "output_type": "execute_result"
    }
   ],
   "source": [
    "variable0[0][0:]"
   ]
  },
  {
   "cell_type": "code",
   "execution_count": 89,
   "id": "86afa349-a585-4223-a12d-9b88e7570831",
   "metadata": {},
   "outputs": [],
   "source": [
    "#entries[1:][4]"
   ]
  },
  {
   "cell_type": "code",
   "execution_count": 90,
   "id": "1e92a69e-4a8a-482b-88de-2411bd78ea0c",
   "metadata": {},
   "outputs": [
    {
     "data": {
      "text/plain": [
       "['Australia',\n",
       " '10039.59564',\n",
       " '10949.64959',\n",
       " '12217.22686',\n",
       " '14526.12465',\n",
       " '16788.62948',\n",
       " '18334.19751',\n",
       " '19477.00928',\n",
       " '21888.88903',\n",
       " '23424.76683',\n",
       " '26997.93657',\n",
       " '30687.75473',\n",
       " '34435.36744']"
      ]
     },
     "execution_count": 90,
     "metadata": {},
     "output_type": "execute_result"
    }
   ],
   "source": [
    "entries[1:][0]"
   ]
  },
  {
   "cell_type": "code",
   "execution_count": 91,
   "id": "f7ff757e-cec7-4945-9bfe-4acf01659223",
   "metadata": {},
   "outputs": [
    {
     "data": {
      "text/plain": [
       "np.float64(14526.12465)"
      ]
     },
     "execution_count": 91,
     "metadata": {},
     "output_type": "execute_result"
    }
   ],
   "source": [
    "variable0[0:][0][3]"
   ]
  },
  {
   "cell_type": "code",
   "execution_count": 92,
   "id": "a7577569-380e-4883-8709-7593221980b3",
   "metadata": {},
   "outputs": [
    {
     "data": {
      "text/plain": [
       "array([14526.12465, 14463.91893])"
      ]
     },
     "execution_count": 92,
     "metadata": {},
     "output_type": "execute_result"
    }
   ],
   "source": [
    "variable0[:,3]"
   ]
  },
  {
   "cell_type": "code",
   "execution_count": 93,
   "id": "8afc5e1d-15f9-4f04-929b-c772fde49d76",
   "metadata": {},
   "outputs": [
    {
     "data": {
      "text/plain": [
       "np.float64(14495.021789999999)"
      ]
     },
     "execution_count": 93,
     "metadata": {},
     "output_type": "execute_result"
    }
   ],
   "source": [
    "fourthcolumbdata=variable0[:,3]\n",
    "fourthcolumbdata.mean()"
   ]
  },
  {
   "cell_type": "code",
   "execution_count": 94,
   "id": "5b71bf11-e535-4a00-ae69-fa3b986a587c",
   "metadata": {},
   "outputs": [
    {
     "data": {
      "text/plain": [
       "array([10039.59564, 10556.57566])"
      ]
     },
     "execution_count": 94,
     "metadata": {},
     "output_type": "execute_result"
    }
   ],
   "source": [
    "variable0[:,0]"
   ]
  },
  {
   "cell_type": "code",
   "execution_count": 95,
   "id": "d013958d-1744-44bf-a98c-bd7408fc27e6",
   "metadata": {},
   "outputs": [
    {
     "data": {
      "text/plain": [
       "array([10039.59564, 10949.64959, 12217.22686, 14526.12465, 16788.62948,\n",
       "       18334.19751, 19477.00928, 21888.88903, 23424.76683, 26997.93657,\n",
       "       30687.75473, 34435.36744])"
      ]
     },
     "execution_count": 95,
     "metadata": {},
     "output_type": "execute_result"
    }
   ],
   "source": [
    "variable0[0]"
   ]
  },
  {
   "cell_type": "code",
   "execution_count": 96,
   "id": "19e1b1ea-dea0-4a72-aa21-1071da062928",
   "metadata": {},
   "outputs": [
    {
     "data": {
      "text/plain": [
       "array([10039.59564, 10949.64959, 12217.22686, 14526.12465, 16788.62948,\n",
       "       18334.19751, 19477.00928, 21888.88903, 23424.76683, 26997.93657,\n",
       "       30687.75473, 34435.36744])"
      ]
     },
     "execution_count": 96,
     "metadata": {},
     "output_type": "execute_result"
    }
   ],
   "source": [
    "variable0[0,:]"
   ]
  },
  {
   "cell_type": "code",
   "execution_count": 97,
   "id": "eb1df009-ac0f-455a-a75c-19a3925d90e7",
   "metadata": {},
   "outputs": [
    {
     "data": {
      "text/plain": [
       "array([10039.59564, 10949.64959, 12217.22686, 14526.12465, 16788.62948,\n",
       "       18334.19751, 19477.00928, 21888.88903, 23424.76683, 26997.93657,\n",
       "       30687.75473, 34435.36744])"
      ]
     },
     "execution_count": 97,
     "metadata": {},
     "output_type": "execute_result"
    }
   ],
   "source": [
    "variable0[0,...]"
   ]
  },
  {
   "cell_type": "markdown",
   "id": "d3e4c6c9-78d6-4234-a2e2-26160966f9de",
   "metadata": {},
   "source": [
    "## Plotting"
   ]
  },
  {
   "cell_type": "code",
   "execution_count": 98,
   "id": "49473191-8f4b-4a01-8b20-cfc5c6797701",
   "metadata": {},
   "outputs": [
    {
     "name": "stderr",
     "output_type": "stream",
     "text": [
      "Matplotlib is building the font cache; this may take a moment.\n"
     ]
    }
   ],
   "source": [
    "import matplotlib.pyplot as plt"
   ]
  },
  {
   "cell_type": "code",
   "execution_count": 99,
   "id": "3b3def97-9c81-4fe7-a735-508ef9394788",
   "metadata": {},
   "outputs": [
    {
     "data": {
      "text/plain": [
       "[<matplotlib.lines.Line2D at 0x214aa435490>,\n",
       " <matplotlib.lines.Line2D at 0x214aa4376b0>]"
      ]
     },
     "execution_count": 99,
     "metadata": {},
     "output_type": "execute_result"
    },
    {
     "data": {
      "image/png": "[encoded data removed]",
      "text/plain": [
       "<Figure size 640x480 with 1 Axes>"
      ]
     },
     "metadata": {},
     "output_type": "display_data"
    }
   ],
   "source": [
    "plt.plot(rowzero,\"r-\", variable0[1])"
   ]
  },
  {
   "cell_type": "code",
   "execution_count": 100,
   "id": "4a12ab69-fcac-420a-b87d-2742ceeb9b57",
   "metadata": {},
   "outputs": [
    {
     "data": {
      "image/png": "[encoded data removed]",
      "text/plain": [
       "<Figure size 640x480 with 1 Axes>"
      ]
     },
     "metadata": {},
     "output_type": "display_data"
    }
   ],
   "source": [
    "_ = plt.plot(rowzero,\"r-\", variable0[1])"
   ]
  },
  {
   "cell_type": "code",
   "execution_count": 101,
   "id": "6e95807b-9648-45ff-94b5-e122fd1557bc",
   "metadata": {},
   "outputs": [
    {
     "data": {
      "text/plain": [
       "Text(0, 0.5, 'gdp/capita')"
      ]
     },
     "execution_count": 101,
     "metadata": {},
     "output_type": "execute_result"
    },
    {
     "data": {
      "image/png": "[encoded data removed]",
      "text/plain": [
       "<Figure size 640x480 with 1 Axes>"
      ]
     },
     "metadata": {},
     "output_type": "display_data"
    }
   ],
   "source": [
    "_ = plt.plot(rowzero,\"r-\", label = \"Autraila\")\n",
    "_ = plt.plot(variable0[1], label = \"New Zeland\")\n",
    "plt.legend()\n",
    "plt.ylabel(\"gdp/capita\")"
   ]
  },
  {
   "cell_type": "markdown",
   "id": "58d66cba-77d0-4929-8a30-b14cb19147b7",
   "metadata": {},
   "source": [
    "## read headings "
   ]
  },
  {
   "cell_type": "markdown",
   "id": "1dfc09c9-cd1b-43b4-a90a-36929bb1b3da",
   "metadata": {},
   "source": [
    "### read coloum headings"
   ]
  },
  {
   "cell_type": "code",
   "execution_count": 105,
   "id": "e00f71a2-83a2-4090-b331-75b6a333d5d2",
   "metadata": {},
   "outputs": [
    {
     "name": "stdout",
     "output_type": "stream",
     "text": [
      "[['country', 'gdpPercap_1952', 'gdpPercap_1957', 'gdpPercap_1962', 'gdpPercap_1967', 'gdpPercap_1972', 'gdpPercap_1977', 'gdpPercap_1982', 'gdpPercap_1987', 'gdpPercap_1992', 'gdpPercap_1997', 'gdpPercap_2002', 'gdpPercap_2007']]\n"
     ]
    }
   ],
   "source": [
    "f = open(\"data/gapminder_gdp_oceania.csv\",\"r\")\n",
    "s=f.readline()\n",
    "entries = []\n",
    "#for row in s.strip().split(\"\\n\"):\n",
    "    values = row.split(\",\")\n",
    "    entries.append(values)\n",
    "\n",
    "print(entries)"
   ]
  },
  {
   "cell_type": "code",
   "execution_count": 134,
   "id": "036b2dda-5acb-461b-854f-5a648ed5f1fb",
   "metadata": {},
   "outputs": [
    {
     "data": {
      "text/plain": [
       "['country',\n",
       " 'gdpPercap_1952',\n",
       " 'gdpPercap_1957',\n",
       " 'gdpPercap_1962',\n",
       " 'gdpPercap_1967',\n",
       " 'gdpPercap_1972',\n",
       " 'gdpPercap_1977',\n",
       " 'gdpPercap_1982',\n",
       " 'gdpPercap_1987',\n",
       " 'gdpPercap_1992',\n",
       " 'gdpPercap_1997',\n",
       " 'gdpPercap_2002',\n",
       " 'gdpPercap_2007']"
      ]
     },
     "execution_count": 134,
     "metadata": {},
     "output_type": "execute_result"
    }
   ],
   "source": [
    "values"
   ]
  },
  {
   "cell_type": "code",
   "execution_count": 139,
   "id": "20738cef-e75f-4f2c-815f-aa832fac62b5",
   "metadata": {},
   "outputs": [
    {
     "name": "stdout",
     "output_type": "stream",
     "text": [
      "[1952, 1957, 1962, 1967, 1972, 1977, 1982, 1987, 1992, 1997, 2002, 2007]\n"
     ]
    }
   ],
   "source": [
    "f = open(\"data/gapminder_gdp_oceania.csv\",\"r\")\n",
    "s=f.readline()\n",
    "row=s.strip(\"\\n\")\n",
    "\n",
    "\n",
    "values = row.split(\",\")\n",
    "\n",
    "newlist=[]\n",
    "for gdp in values[1:13]:\n",
    "    gdp=gdp.strip(\"gdpPercap_\")\n",
    "    newlist.append(int(gdp))\n",
    "    \n",
    "\n",
    "print(newlist)\n",
    "\n",
    "#entries.append(values)\n"
   ]
  },
  {
   "cell_type": "code",
   "execution_count": 148,
   "id": "7be0e233-805f-426a-baaa-b0b8f59483f8",
   "metadata": {},
   "outputs": [
    {
     "data": {
      "text/plain": [
       "Text(0, 0.5, 'gdp/capita')"
      ]
     },
     "execution_count": 148,
     "metadata": {},
     "output_type": "execute_result"
    },
    {
     "data": {
      "image/png": "[encoded data removed]",
      "text/plain": [
       "<Figure size 640x480 with 1 Axes>"
      ]
     },
     "metadata": {},
     "output_type": "display_data"
    }
   ],
   "source": [
    "_ = plt.plot(newlist,rowzero,\"r-\", label = entries[0] )\n",
    "_ = plt.plot(newlist,variable0[1], label = entries[1])\n",
    "\n",
    "plt.legend()\n",
    "plt.ylabel(\"gdp/capita\")\n"
   ]
  },
  {
   "cell_type": "code",
   "execution_count": 149,
   "id": "4fea6982-6bda-4f62-b152-6e4eff10b307",
   "metadata": {},
   "outputs": [],
   "source": [
    "f = open(\"data/gapminder_gdp_oceania.csv\",\"r\")\n",
    "s=f.read()\n"
   ]
  },
  {
   "cell_type": "code",
   "execution_count": 147,
   "id": "f73e7182-d24e-4e48-9905-8a0e022163c7",
   "metadata": {},
   "outputs": [
    {
     "name": "stdout",
     "output_type": "stream",
     "text": [
      "['Australia', 'New Zealand']\n"
     ]
    }
   ],
   "source": [
    "entries = []\n",
    "for row in s.strip().split(\"\\n\"):\n",
    "    values = row.split(\",\")\n",
    "    entries.append(values[0])\n",
    "entries=entries[1:]\n",
    "print(entries)"
   ]
  },
  {
   "cell_type": "code",
   "execution_count": 152,
   "id": "f8613c63-cffe-472d-8363-621524946708",
   "metadata": {},
   "outputs": [
    {
     "data": {
      "text/plain": [
       "Text(0.5, 0, 'year')"
      ]
     },
     "execution_count": 152,
     "metadata": {},
     "output_type": "execute_result"
    },
    {
     "data": {
      "image/png": "[encoded data removed]",
      "text/plain": [
       "<Figure size 640x480 with 1 Axes>"
      ]
     },
     "metadata": {},
     "output_type": "display_data"
    }
   ],
   "source": [
    "#_ = plt.plot(newlist,rowzero,\"r-\", label = entries[0] )\n",
    "#_ = plt.plot(newlist,variable0[1], label = entries[1])\n",
    "\n",
    "\n",
    "\n",
    "\n",
    "for line in zip(entries,variable0):\n",
    "    plt.plot(newlist,line[1], label=line[0])\n",
    "plt.legend()\n",
    "plt.ylabel(\"gdp/capita\")  \n",
    "plt.xlabel(\"year\")"
   ]
  },
  {
   "cell_type": "code",
   "execution_count": null,
   "id": "122b48e0-753d-43b1-a0c0-bca0ded0e254",
   "metadata": {},
   "outputs": [],
   "source": []
  }
 ],
 "metadata": {
  "kernelspec": {
   "display_name": "Python 3 (ipykernel)",
   "language": "python",
   "name": "python3"
  },
  "language_info": {
   "codemirror_mode": {
    "name": "ipython",
    "version": 3
   },
   "file_extension": ".py",
   "mimetype": "text/x-python",
   "name": "python",
   "nbconvert_exporter": "python",
   "pygments_lexer": "ipython3",
   "version": "3.12.5"
  }
 },
 "nbformat": 4,
 "nbformat_minor": 5
}
